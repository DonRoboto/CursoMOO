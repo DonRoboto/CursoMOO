{
  "nbformat": 4,
  "nbformat_minor": 0,
  "metadata": {
    "colab": {
      "name": "GA_v2.ipynb",
      "provenance": [],
      "authorship_tag": "ABX9TyMPD0aMpJhcWaLoxCTi5PTd",
      "include_colab_link": true
    },
    "kernelspec": {
      "name": "python3",
      "display_name": "Python 3"
    },
    "language_info": {
      "name": "python"
    }
  },
  "cells": [
    {
      "cell_type": "markdown",
      "metadata": {
        "id": "view-in-github",
        "colab_type": "text"
      },
      "source": [
        "<a href=\"https://colab.research.google.com/github/DonRoboto/CursoMOO/blob/main/GA_v2.ipynb\" target=\"_parent\"><img src=\"https://colab.research.google.com/assets/colab-badge.svg\" alt=\"Open In Colab\"/></a>"
      ]
    },
    {
      "cell_type": "code",
      "source": [
        "import pandas as pd\n",
        "import requests\n",
        "import io\n",
        "import random\n",
        "\n",
        "url_50 = 'https://raw.githubusercontent.com/DonRoboto/CursoMOO/main/ks_50_0.csv'\n",
        "download_50 = requests.get(url_50).content\n",
        "df_50 = pd.read_csv(io.StringIO(download_50.decode('utf-8')))\n",
        "\n",
        "\n",
        "url_10000 = 'https://raw.githubusercontent.com/DonRoboto/CursoMOO/main/ks_10000_0.csv'\n",
        "download_10000 = requests.get(url_10000).content\n",
        "df_10000 = pd.read_csv(io.StringIO(download_10000.decode('utf-8')))"
      ],
      "metadata": {
        "id": "V1bJsQYdmdsx"
      },
      "execution_count": 1,
      "outputs": []
    },
    {
      "cell_type": "code",
      "source": [
        "data_top = df_10000.columns\n",
        "\n",
        "n = int(data_top[0])\n",
        "max_cap = int(data_top[1])\n",
        "\n",
        "list_of_items = []\n",
        "for index, row in df_10000.iterrows():\n",
        "  list_of_items.append((int(row[0]), int(row[1])))\n",
        "\n",
        "#list_of_items"
      ],
      "metadata": {
        "id": "5U27BjnwnEqM"
      },
      "execution_count": 2,
      "outputs": []
    },
    {
      "cell_type": "code",
      "source": [
        "#first population\n",
        "population_1 = []\n",
        "\n",
        "for i in range(1000):\n",
        "    c = []\n",
        "    y = 0\n",
        "    while y<max_cap:\n",
        "        item = random.choice(list_of_items)\n",
        "        if item not in c:\n",
        "            c.append(item)\n",
        "            for x in c:\n",
        "                y += x[1]\n",
        " \n",
        "    y = 0\n",
        "    for x in c:\n",
        "        y += x[1]\n",
        "    if y > max_cap:\n",
        "        c.pop()\n",
        "        \n",
        "    population_1.append(c) "
      ],
      "metadata": {
        "id": "CJ8dfGgUmhN0"
      },
      "execution_count": 3,
      "outputs": []
    },
    {
      "cell_type": "code",
      "source": [
        "##making a list of values\n",
        "values = []\n",
        "for i in population_1:\n",
        "    val_sum = 0\n",
        "    for a in i:\n",
        "        val_sum += a[0]\n",
        "    values.append(val_sum) \n",
        "\n",
        "#combining list of values with population    \n",
        "population_1_with_values = list(zip(values, population_1))"
      ],
      "metadata": {
        "id": "FQFJ0B3nmk8u"
      },
      "execution_count": 4,
      "outputs": []
    },
    {
      "cell_type": "code",
      "source": [
        "\n",
        "\n",
        "#sorting population1_with_values\n",
        "sorted_population_1_with_values = sorted(population_1_with_values, reverse=True)\n",
        "\n"
      ],
      "metadata": {
        "id": "xiE0X3nymn1_"
      },
      "execution_count": 5,
      "outputs": []
    },
    {
      "cell_type": "code",
      "source": [
        "def evolution (previous_generation, list2):\n",
        "    \n",
        "    list1 = []\n",
        "    for i in range (400):\n",
        "        list1.append(previous_generation[i])\n",
        "    \n",
        "    gametes = []\n",
        "    for k in range(2):\n",
        "        \n",
        "        for i in list1:\n",
        "            gamete = []\n",
        "            random.shuffle(i[1])\n",
        "            gamete.extend(i[1][:3])\n",
        "    \n",
        "            if random.randint(0,2) == 1:\n",
        "                gene = random.choice(list2)\n",
        "                if gene not in gamete:\n",
        "                    gamete.append(gene)\n",
        "            volum = 0\n",
        "            for i in gamete:\n",
        "                volum += i[1]\n",
        "            if volum <= max_cap:\n",
        "                gametes.append(gamete)\n",
        "        \n",
        "    random.shuffle(gametes)\n",
        "    for i in list1:\n",
        "        gamete = []\n",
        "        random.shuffle(i[1])\n",
        "        gamete.extend(i[1][:3])\n",
        "    \n",
        "        if random.randint(0,2) == 1:\n",
        "            \n",
        "            gene = random.choice(list2)\n",
        "            if gene not in gamete:\n",
        "                 gamete.append(gene)\n",
        "        volum = 0\n",
        "        for i in gamete:\n",
        "            volum += i[1]\n",
        "        if volum <= max_cap:\n",
        "            gametes.append(gamete)\n",
        "        \n",
        "    random.shuffle(gametes)\n",
        "    \n",
        "    offsprings = []\n",
        "    for i in range(len(gametes)-1):\n",
        "        offspring = []\n",
        "        offspring = list(set(gametes[i] + gametes[i+1]))\n",
        "        val = 0\n",
        "        for i in offspring:\n",
        "            val += i[1]\n",
        "        if val <= max_cap:\n",
        "            offsprings.append(offspring)        \n",
        "            \n",
        "    list_of_offsprings_values = []\n",
        "    for i in offsprings:\n",
        "        values_value = 0\n",
        "        for j in i:\n",
        "            values_value += j[0]\n",
        "        list_of_offsprings_values.append(values_value)\n",
        "    \n",
        "    \n",
        "    offsprings_with_values = list(zip(list_of_offsprings_values, offsprings))\n",
        "    sorted_offsprings_with_values = sorted(offsprings_with_values, reverse=True)  \n",
        "    return sorted_offsprings_with_values"
      ],
      "metadata": {
        "id": "pulLmgyjmru5"
      },
      "execution_count": 6,
      "outputs": []
    },
    {
      "cell_type": "code",
      "source": [
        "generation_1 = evolution(sorted_population_1_with_values, list_of_items)\n"
      ],
      "metadata": {
        "id": "2eRbpxkfmtOW"
      },
      "execution_count": 7,
      "outputs": []
    },
    {
      "cell_type": "code",
      "source": [
        "generation_1[0]\n"
      ],
      "metadata": {
        "colab": {
          "base_uri": "https://localhost:8080/"
        },
        "id": "IKa_4p1Omybq",
        "outputId": "824af4d0-c595-45a9-d231-89e68ffd0a0c"
      },
      "execution_count": 8,
      "outputs": [
        {
          "output_type": "execute_result",
          "data": {
            "text/plain": [
              "(1015400,\n",
              " [(133510, 148275),\n",
              "  (173575, 163584),\n",
              "  (103030, 99031),\n",
              "  (168763, 154855),\n",
              "  (178899, 174892),\n",
              "  (45913, 44737),\n",
              "  (211710, 196870)])"
            ]
          },
          "metadata": {},
          "execution_count": 8
        }
      ]
    },
    {
      "cell_type": "code",
      "source": [
        "generation_2 = evolution(generation_1, list_of_items)\n",
        "generation_2[0]\n"
      ],
      "metadata": {
        "colab": {
          "base_uri": "https://localhost:8080/"
        },
        "id": "vdGSRwIXm40T",
        "outputId": "08991bbc-16fc-4767-d8b3-e3b43cf2e372"
      },
      "execution_count": 9,
      "outputs": [
        {
          "output_type": "execute_result",
          "data": {
            "text/plain": [
              "(1047820,\n",
              " [(139349, 131886),\n",
              "  (216873, 198894),\n",
              "  (198124, 187387),\n",
              "  (11321, 11016),\n",
              "  (128937, 126456),\n",
              "  (152298, 145174),\n",
              "  (200918, 194942)])"
            ]
          },
          "metadata": {},
          "execution_count": 9
        }
      ]
    },
    {
      "cell_type": "code",
      "source": [
        "generation_3 = evolution(generation_2, list_of_items)\n",
        "generation_3[0]\n"
      ],
      "metadata": {
        "colab": {
          "base_uri": "https://localhost:8080/"
        },
        "id": "6MVoB-IGnD16",
        "outputId": "82977674-9852-4eda-9c72-9a7066f7d061"
      },
      "execution_count": 10,
      "outputs": [
        {
          "output_type": "execute_result",
          "data": {
            "text/plain": [
              "(1035979,\n",
              " [(174604, 160501),\n",
              "  (78370, 75560),\n",
              "  (89099, 82778),\n",
              "  (202837, 197983),\n",
              "  (98330, 102314),\n",
              "  (194858, 188183),\n",
              "  (197881, 183324)])"
            ]
          },
          "metadata": {},
          "execution_count": 10
        }
      ]
    },
    {
      "cell_type": "code",
      "source": [
        "generation_4 = evolution(generation_3, list_of_items)\n",
        "generation_4[0]\n"
      ],
      "metadata": {
        "colab": {
          "base_uri": "https://localhost:8080/"
        },
        "id": "1p1YQst50AzX",
        "outputId": "bf963421-7ae2-43cc-a12c-0d6748e4ccb5"
      },
      "execution_count": 11,
      "outputs": [
        {
          "output_type": "execute_result",
          "data": {
            "text/plain": [
              "(1040717,\n",
              " [(139349, 131886),\n",
              "  (72037, 66314),\n",
              "  (125029, 116069),\n",
              "  (153424, 151273),\n",
              "  (170606, 157444),\n",
              "  (125090, 125672),\n",
              "  (157331, 157922),\n",
              "  (97851, 90525)])"
            ]
          },
          "metadata": {},
          "execution_count": 11
        }
      ]
    },
    {
      "cell_type": "code",
      "source": [
        "generation_5 = evolution(generation_4, list_of_items)\n",
        "generation_5[0]\n"
      ],
      "metadata": {
        "colab": {
          "base_uri": "https://localhost:8080/"
        },
        "id": "Qmx5-SnF0Dfa",
        "outputId": "05f2c217-137d-43df-bad9-5ab9512be4c3"
      },
      "execution_count": 12,
      "outputs": [
        {
          "output_type": "execute_result",
          "data": {
            "text/plain": [
              "(1050262,\n",
              " [(169872, 163985),\n",
              "  (180702, 174304),\n",
              "  (142399, 130990),\n",
              "  (176256, 160849),\n",
              "  (181206, 164754),\n",
              "  (199827, 183683)])"
            ]
          },
          "metadata": {},
          "execution_count": 12
        }
      ]
    },
    {
      "cell_type": "code",
      "source": [
        "generation_6 = evolution(generation_5, list_of_items)\n",
        "generation_6[0]"
      ],
      "metadata": {
        "colab": {
          "base_uri": "https://localhost:8080/"
        },
        "id": "XzOI2H1v0ySt",
        "outputId": "21bcf0db-7531-48eb-a365-e703bf09ce13"
      },
      "execution_count": 13,
      "outputs": [
        {
          "output_type": "execute_result",
          "data": {
            "text/plain": [
              "(1061651,\n",
              " [(124317, 117405),\n",
              "  (178975, 163759),\n",
              "  (177424, 162678),\n",
              "  (199827, 183683),\n",
              "  (200739, 188519),\n",
              "  (180369, 174683)])"
            ]
          },
          "metadata": {},
          "execution_count": 13
        }
      ]
    },
    {
      "cell_type": "code",
      "source": [
        "generation_7 = evolution(generation_6, list_of_items)\n",
        "generation_7[0]"
      ],
      "metadata": {
        "colab": {
          "base_uri": "https://localhost:8080/"
        },
        "id": "O4kuydkC0zDa",
        "outputId": "bb6ebff6-57ba-4d99-d48e-052922295905"
      },
      "execution_count": 14,
      "outputs": [
        {
          "output_type": "execute_result",
          "data": {
            "text/plain": [
              "(1045311,\n",
              " [(196376, 184350),\n",
              "  (171373, 159745),\n",
              "  (125029, 116069),\n",
              "  (180702, 174304),\n",
              "  (171362, 173237),\n",
              "  (19716, 18394),\n",
              "  (180753, 172090)])"
            ]
          },
          "metadata": {},
          "execution_count": 14
        }
      ]
    },
    {
      "cell_type": "code",
      "source": [
        "generation_8 = evolution(generation_7, list_of_items)\n",
        "generation_8[0]"
      ],
      "metadata": {
        "colab": {
          "base_uri": "https://localhost:8080/"
        },
        "id": "jNuH441k0zs4",
        "outputId": "4d4e8253-5c99-4508-a859-002489196590"
      },
      "execution_count": 15,
      "outputs": [
        {
          "output_type": "execute_result",
          "data": {
            "text/plain": [
              "(1045282,\n",
              " [(176256, 160849),\n",
              "  (49812, 52349),\n",
              "  (123919, 125990),\n",
              "  (142167, 135701),\n",
              "  (184550, 174960),\n",
              "  (197881, 183324),\n",
              "  (170697, 160103)])"
            ]
          },
          "metadata": {},
          "execution_count": 15
        }
      ]
    },
    {
      "cell_type": "code",
      "source": [
        "generation_9 = evolution(generation_8, list_of_items)\n",
        "generation_9[0]"
      ],
      "metadata": {
        "colab": {
          "base_uri": "https://localhost:8080/"
        },
        "id": "D2S5HFX300Ql",
        "outputId": "ff80c04b-fb5f-4084-d05f-c3e6bfdf6143"
      },
      "execution_count": 16,
      "outputs": [
        {
          "output_type": "execute_result",
          "data": {
            "text/plain": [
              "(1064994,\n",
              " [(176814, 162533),\n",
              "  (146016, 134777),\n",
              "  (191010, 182772),\n",
              "  (175894, 170084),\n",
              "  (199183, 183529),\n",
              "  (176077, 162697)])"
            ]
          },
          "metadata": {},
          "execution_count": 16
        }
      ]
    },
    {
      "cell_type": "code",
      "source": [
        "generation_10 = evolution(generation_9, list_of_items)\n",
        "generation_10[0]"
      ],
      "metadata": {
        "colab": {
          "base_uri": "https://localhost:8080/"
        },
        "id": "7sEW2KFX00vl",
        "outputId": "525471a2-55f4-4363-abc4-2380f9f75ab1"
      },
      "execution_count": 17,
      "outputs": [
        {
          "output_type": "execute_result",
          "data": {
            "text/plain": [
              "(1050492,\n",
              " [(172979, 168947),\n",
              "  (124578, 117948),\n",
              "  (101109, 93462),\n",
              "  (213289, 197941),\n",
              "  (119987, 120795),\n",
              "  (164825, 151727),\n",
              "  (153725, 142041)])"
            ]
          },
          "metadata": {},
          "execution_count": 17
        }
      ]
    }
  ]
}