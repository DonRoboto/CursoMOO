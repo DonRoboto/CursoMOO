{
  "nbformat": 4,
  "nbformat_minor": 0,
  "metadata": {
    "colab": {
      "provenance": [],
      "authorship_tag": "ABX9TyMNplUWz1VkFaoyC4N4cRbp",
      "include_colab_link": true
    },
    "kernelspec": {
      "name": "python3",
      "display_name": "Python 3"
    },
    "language_info": {
      "name": "python"
    }
  },
  "cells": [
    {
      "cell_type": "markdown",
      "metadata": {
        "id": "view-in-github",
        "colab_type": "text"
      },
      "source": [
        "<a href=\"https://colab.research.google.com/github/DonRoboto/CursoMOO/blob/main/T2_Genetic_v1.ipynb\" target=\"_parent\"><img src=\"https://colab.research.google.com/assets/colab-badge.svg\" alt=\"Open In Colab\"/></a>"
      ]
    },
    {
      "cell_type": "code",
      "execution_count": 1,
      "metadata": {
        "id": "OOLE6MWYBNBg"
      },
      "outputs": [],
      "source": [
        "\n",
        "import pandas as pd\n",
        "import requests\n",
        "import io\n",
        "import random\n",
        "import math\n",
        "\n",
        "url_50 = 'https://raw.githubusercontent.com/DonRoboto/CursoMOO/main/knap_t2.csv'\n",
        "download_50 = requests.get(url_50).content\n",
        "df_50 = pd.read_csv(io.StringIO(download_50.decode('utf-8')))"
      ]
    },
    {
      "cell_type": "code",
      "source": [
        "\n",
        "data_top = df_50.columns\n",
        "\n",
        "n1 = 250\n",
        "max_cap1 = int(data_top[1])\n",
        "n2 = 250\n",
        "max_cap2 = int(data_top[3])\n",
        "\n",
        "list_1 = []\n",
        "for index, row in df_50.iterrows():\n",
        "  list_1.append((int(row[0]), int(row[1])))\n",
        "\n",
        "list_2 = []\n",
        "for index, row in df_50.iterrows():\n",
        "  list_2.append((int(row[2]), int(row[3])))\n",
        "\n"
      ],
      "metadata": {
        "id": "z05CRR7MBS9g"
      },
      "execution_count": 2,
      "outputs": []
    },
    {
      "cell_type": "code",
      "source": [
        "\n",
        "class Individuo():\n",
        "    def __init__(self, i_x='', i_y=''):\n",
        "      if i_x!='':\n",
        "        self.i_x = i_x\n",
        "        self.i_y = i_y\n",
        "        \n",
        "      else:\n",
        "        n_lista_1 = random.randint(2, 10)\n",
        "        n_lista_2 = random.randint(2, 10)\n",
        "\n",
        "        index_1 = []        \n",
        "        index_2 = []\n",
        "        \n",
        "        for i in range(n_lista_1):\n",
        "          index = random.randint(0, 10)\n",
        "          if index not in index_1:           \n",
        "            index_1.append(index)          \n",
        "\n",
        "        for i in range(n_lista_2):\n",
        "          index = random.randint(0, 10)\n",
        "          if index not in index_2:                     \n",
        "            index_2.append(index)          \n",
        "\n",
        "        self.i_x = index_1\n",
        "        self.i_y = index_2\n",
        "\n",
        "      \n",
        "      #self.cromosomas()\n",
        "\n",
        "    def cromosomas(self):\n",
        "        aux_x_weights = []\n",
        "        aux_x_profits = []\n",
        "\n",
        "        aux_y_weights = []\n",
        "        aux_y_profits = []\n",
        "\n",
        "\n",
        "    def fittnes(self, w1, w2):\n",
        "      fit_x = 0\n",
        "      fit_y = 0\n",
        "\n",
        "      for k in range(len(self.i_x)):\n",
        "        fit_x = fit_x + list_1[k][1]\n",
        "      \n",
        "      for k in range(len(self.i_y)):\n",
        "        fit_y = fit_y + list_2[k][1]\n",
        "\n",
        "      fit_f = (w1 * fit_x) + (w2 * fit_y)\n",
        "      return fit_f\n",
        "\n"
      ],
      "metadata": {
        "id": "RaxoEI_WLIVc"
      },
      "execution_count": 3,
      "outputs": []
    },
    {
      "cell_type": "code",
      "source": [
        "moc1 = Individuo()\n",
        "print(moc1.i_x)\n",
        "print(moc1.i_y)\n",
        "\n",
        "moc2 = Individuo()\n",
        "print(moc2.i_x)\n",
        "print(moc2.i_y)\n",
        "\n",
        "f1 = moc1.fittnes(0.5, 0.5)\n",
        "print(f1)\n",
        "\n",
        "f2 = moc2.fittnes(0.5, 0.5)\n",
        "print(f2)\n"
      ],
      "metadata": {
        "colab": {
          "base_uri": "https://localhost:8080/"
        },
        "id": "t4QB8edcxV3_",
        "outputId": "04e21cf7-8e91-43d4-87a6-d959a5082f84"
      },
      "execution_count": 4,
      "outputs": [
        {
          "output_type": "stream",
          "name": "stdout",
          "text": [
            "[3, 8, 4, 7, 1]\n",
            "[6, 2, 8, 5, 10]\n",
            "[6, 7, 9, 2]\n",
            "[9, 2, 0, 4, 8]\n",
            "204.5\n",
            "198.5\n"
          ]
        }
      ]
    },
    {
      "cell_type": "code",
      "source": [
        "#cruza\n",
        "h1 = Individuo(i_x=[], i_y=[])\n",
        "h2 = Individuo(i_x=[], i_y=[])\n",
        "\n",
        "cru1=math.floor(len(moc1.i_x)/2)\n",
        "cru2=math.floor(len(moc2.i_x)/2)\n",
        "\n",
        "print(moc1.i_x)\n",
        "print(moc2.i_x)\n",
        "print(\"***\")\n",
        "print(cru1)\n",
        "print(cru2)\n",
        "\n",
        "h1.i_x = moc1.i_x[:cru1]\n",
        "h2.i_x = moc2.i_x[:cru2]\n",
        "\n",
        "for n in range(cru2, len(moc2.i_x)):\n",
        "  if moc2.i_x[n] not in h1.i_x:\n",
        "    h1.i_x.append(moc2.i_x[n])\n",
        "\n",
        "for n in range(cru1, len(moc1.i_x)):\n",
        "  if moc1.i_x[n] not in h2.i_x:\n",
        "    h2.i_x.append(moc1.i_x[n])\n",
        "\n",
        "print(\"***\")\n",
        "print(h1.i_x)\n",
        "print(h2.i_x)\n",
        "\n"
      ],
      "metadata": {
        "colab": {
          "base_uri": "https://localhost:8080/"
        },
        "id": "PYv000qO23qK",
        "outputId": "89ba0490-c684-4437-bbe1-3b499523163e"
      },
      "execution_count": 5,
      "outputs": [
        {
          "output_type": "stream",
          "name": "stdout",
          "text": [
            "[3, 8, 4, 7, 1]\n",
            "[6, 7, 9, 2]\n",
            "***\n",
            "2\n",
            "2\n",
            "***\n",
            "[3, 8, 9, 2]\n",
            "[6, 7, 4, 1]\n"
          ]
        }
      ]
    }
  ]
}