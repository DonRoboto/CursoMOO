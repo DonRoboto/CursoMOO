{
  "nbformat": 4,
  "nbformat_minor": 0,
  "metadata": {
    "colab": {
      "name": "BranchBound.ipynb",
      "provenance": [],
      "authorship_tag": "ABX9TyOj3nYPOwrQv7KRwHrfFPhH",
      "include_colab_link": true
    },
    "kernelspec": {
      "name": "python3",
      "display_name": "Python 3"
    },
    "language_info": {
      "name": "python"
    }
  },
  "cells": [
    {
      "cell_type": "markdown",
      "metadata": {
        "id": "view-in-github",
        "colab_type": "text"
      },
      "source": [
        "<a href=\"https://colab.research.google.com/github/DonRoboto/CursoMOO/blob/main/BranchBound.ipynb\" target=\"_parent\"><img src=\"https://colab.research.google.com/assets/colab-badge.svg\" alt=\"Open In Colab\"/></a>"
      ]
    },
    {
      "cell_type": "code",
      "execution_count": 3,
      "metadata": {
        "id": "o_Gd7KYoXTw6"
      },
      "outputs": [],
      "source": [
        "class Nodo():\n",
        "  id = 4\n",
        "\n",
        "  def identif(self):\n",
        "    print(\"yo soy el nodo {}\".format(self.id))\n"
      ]
    },
    {
      "cell_type": "code",
      "source": [
        "myNodo = Nodo()\n",
        "\n",
        "myNodo.identif()"
      ],
      "metadata": {
        "colab": {
          "base_uri": "https://localhost:8080/"
        },
        "id": "85g6yOc-UpVt",
        "outputId": "c085bfc3-ba19-4918-dd74-4bb7926e053e"
      },
      "execution_count": 4,
      "outputs": [
        {
          "output_type": "stream",
          "name": "stdout",
          "text": [
            "yo soy el nodo 4\n"
          ]
        }
      ]
    }
  ]
}