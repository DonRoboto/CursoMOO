{
  "nbformat": 4,
  "nbformat_minor": 0,
  "metadata": {
    "colab": {
      "name": "GradienteSchwefel.ipynb",
      "provenance": [],
      "authorship_tag": "ABX9TyPbyQ58nHiGSfTEqRpHZeGY",
      "include_colab_link": true
    },
    "kernelspec": {
      "name": "python3",
      "display_name": "Python 3"
    },
    "language_info": {
      "name": "python"
    }
  },
  "cells": [
    {
      "cell_type": "markdown",
      "metadata": {
        "id": "view-in-github",
        "colab_type": "text"
      },
      "source": [
        "<a href=\"https://colab.research.google.com/github/DonRoboto/CursoMOO/blob/main/GradienteSchwefel.ipynb\" target=\"_parent\"><img src=\"https://colab.research.google.com/assets/colab-badge.svg\" alt=\"Open In Colab\"/></a>"
      ]
    },
    {
      "cell_type": "code",
      "execution_count": 1,
      "metadata": {
        "colab": {
          "base_uri": "https://localhost:8080/"
        },
        "id": "sfY92oGe6LQ_",
        "outputId": "e1002c78-5329-4668-e894-1c61e6793b78"
      },
      "outputs": [
        {
          "output_type": "stream",
          "name": "stdout",
          "text": [
            "0.01\n",
            "[[245]\n",
            " [295]]\n"
          ]
        }
      ],
      "source": [
        "import numpy as np\n",
        "import random\n",
        "from sympy import *\n",
        "\n",
        "#random.seed(1000)\n",
        "alpha = 0.01\n",
        "ro = 0.8\n",
        "c = 0.1\n",
        "\n",
        "x0 = random.randint(-500, 500)\n",
        "x1 = random.randint(-500, 500)\n",
        "\n",
        "X = np.array([[x0], [x1]])\n",
        "\n",
        "print(alpha)\n",
        "print(X)"
      ]
    },
    {
      "cell_type": "code",
      "source": [
        "x0 = Symbol('x0')\n",
        "x1 = Symbol('x1')\n",
        "\n",
        "#Sphere function\n",
        "#fx = x0**2 + x1**2\n",
        "\n",
        "#Schwefel Function\n",
        "d=2\n",
        "#fx = (418.8929 * d)  -  ( (x0 * sin( sqrt(abs(x0)) ) )  + (x1 * sin( sqrt(abs(x1)) ))    )\n",
        "fx = (418.8929 * d)  -  ( (x0 * sin( sqrt(  sqrt(x0**2)  ) ) )  + (x1 * sin( sqrt(  sqrt(x1**2)   ) ))     )"
      ],
      "metadata": {
        "id": "LrBGxgMW6wq2"
      },
      "execution_count": 2,
      "outputs": []
    },
    {
      "cell_type": "code",
      "source": [
        "origen_0 = fx.subs([(x0, float(X[0])), (x1, float(X[1]))]).doit()\n",
        "print(X)\n",
        "print(origen_0)\n",
        "\n",
        "#f0=fx.diff(x0)\n",
        "#f1=fx.diff(x1)\n",
        "\n",
        "#print(f0)\n",
        "#print(f1)\n",
        "\n",
        "#print(f0.subs(x0, 4.2).doit())\n",
        "#print(f1.subs(x1, 4.3).doit())\n"
      ],
      "metadata": {
        "colab": {
          "base_uri": "https://localhost:8080/"
        },
        "id": "qOFFHms57D91",
        "outputId": "0344c68d-7c9d-4f6f-dec5-c0afecec0466"
      },
      "execution_count": 3,
      "outputs": [
        {
          "output_type": "stream",
          "name": "stdout",
          "text": [
            "[[245]\n",
            " [295]]\n",
            "1117.62897389012\n"
          ]
        }
      ]
    },
    {
      "cell_type": "code",
      "source": [
        "\n",
        "def Gradient(X):\n",
        "  return np.array( [ [fx.diff(x0).subs( [(x0, float(X[0])), (x1, float(X[1]))]  )], [fx.diff(x1).subs( [(x0, float(X[0])), (x1, float(X[1]))]  ) ] ] )  \n",
        "\n",
        "def Direction(X):  \n",
        "  dy = -1 * Gradient(X)\n",
        "  return dy\n",
        "\n",
        "def step_size(X, alpha, ro, c):\n",
        "  counter = 0\n",
        "  origen_0 = fx.subs([(x0, float(X[0])), (x1, float(X[1]))]).doit()\n",
        "  f_k =origen_0\n",
        "  #f_k = origen_0\n",
        "\n",
        "  pk = Direction(X)\n",
        "  #g = np.array([fx.diff(x).subs(x, float(X[0])), fx.diff(y).subs(y, float(X[1])), fx.diff(z).subs(z, float(X[2]))] )\n",
        "  g = Gradient(X)\n",
        "\n",
        "\n",
        "  #print(X)\n",
        "  #print(float(X[0]))\n",
        "  #print(float(X[1]))\n",
        "  #print(float(X[2]))\n",
        "  #print(origen_0)\n",
        "  #print(pk)\n",
        "  #print(g)\n",
        "\n",
        "  while True:\n",
        "    dato1 = X  + (alpha * pk)\n",
        "    destino_0 = fx.subs([(x0, float(dato1[0])), (x1, float(dato1[1]))]).doit()\n",
        "\n",
        "    dato3 = (c * alpha) * np.dot(g.T, pk)\n",
        "    penal_0 = dato3[0,0]\n",
        "\n",
        "    f_n = round(float(destino_0), 6)\n",
        "    penalty = round(float(penal_0), 6)\n",
        "\n",
        "    if (f_n <= f_k + penalty) or (counter>100):\n",
        "      return alpha\n",
        "\n",
        "    #print(alpha)\n",
        "    alpha = round(ro * alpha, 6)\n",
        "    counter = counter + 1\n",
        "\n"
      ],
      "metadata": {
        "id": "5dcT5V4X7aEE"
      },
      "execution_count": 4,
      "outputs": []
    },
    {
      "cell_type": "code",
      "source": [],
      "metadata": {
        "id": "Ft_helxxDvIU"
      },
      "execution_count": 4,
      "outputs": []
    },
    {
      "cell_type": "code",
      "source": [
        "\n",
        "import progressbar\n",
        "\n",
        "prev_val = 1000000000\n",
        "epsilon = 0.001\n",
        "counter=0\n",
        "max_value=1000000\n",
        "\n",
        "bar = progressbar.ProgressBar(max_value=max_value)\n",
        "\n",
        "while True:\n",
        "  pk = Direction(X)\n",
        "  #print('direccion={}'.format(pk.T))\n",
        "  \n",
        "  #print('ro: {}'.format(ro))  \n",
        "  alpha = step_size(X, alpha, ro, c)\n",
        "  #print('alpha: {}'.format(alpha) )\n",
        "\n",
        "  Xn = X + (alpha * pk) \n",
        "  actual_val = fx.subs([ (x0, float(Xn[0])), (x1, float(Xn[1])) ] )\n",
        "\n",
        "  #print('f(X)={}'.format(prev_val))\n",
        "  #print('f(Xn)={}'.format(actual_val))\n",
        "  #print('alfa={}'.format(alpha))\n",
        "  #print('*********')\n",
        "\n",
        "  if (round(abs(actual_val - prev_val),6)<epsilon) or (counter>=max_value):\n",
        "    break\n",
        "  #if (counter>10):\n",
        "  #  break\n",
        "\n",
        "  X = Xn\n",
        "  prev_val=actual_val\n",
        "  counter = counter + 1\n",
        "\n",
        "  #time.sleep(0.1)\n",
        "  bar.update(counter)\n",
        "\n",
        "print('\\n')\n",
        "print('Xn={}'.format(Xn))\n",
        "print('f(Xn)={}'.format(actual_val))\n",
        "print(counter)"
      ],
      "metadata": {
        "colab": {
          "base_uri": "https://localhost:8080/"
        },
        "id": "goEi8qB075DZ",
        "outputId": "8636b0b0-480c-4142-bd69-d3318dce4a26"
      },
      "execution_count": 5,
      "outputs": [
        {
          "output_type": "stream",
          "name": "stderr",
          "text": [
            "  0% (2366 of 1000000) |                 | Elapsed Time: 0:00:31 ETA:   3:24:13"
          ]
        },
        {
          "output_type": "stream",
          "name": "stdout",
          "text": [
            "\n",
            "\n",
            "Xn=[[203.924821872390]\n",
            " [205.043719614977]]\n",
            "f(Xn)=434.293704164103\n",
            "2373\n"
          ]
        }
      ]
    }
  ]
}