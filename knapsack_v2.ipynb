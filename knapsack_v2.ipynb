{
  "nbformat": 4,
  "nbformat_minor": 0,
  "metadata": {
    "colab": {
      "name": "knapsack_v2.ipynb",
      "provenance": [],
      "authorship_tag": "ABX9TyOYcij8hInDEMyBQaWmnql9",
      "include_colab_link": true
    },
    "kernelspec": {
      "name": "python3",
      "display_name": "Python 3"
    },
    "language_info": {
      "name": "python"
    }
  },
  "cells": [
    {
      "cell_type": "markdown",
      "metadata": {
        "id": "view-in-github",
        "colab_type": "text"
      },
      "source": [
        "<a href=\"https://colab.research.google.com/github/DonRoboto/CursoMOO/blob/main/knapsack_v2.ipynb\" target=\"_parent\"><img src=\"https://colab.research.google.com/assets/colab-badge.svg\" alt=\"Open In Colab\"/></a>"
      ]
    },
    {
      "cell_type": "code",
      "source": [
        "import pandas as pd\n",
        "import requests\n",
        "import io\n",
        "\n",
        "url_50 = 'https://raw.githubusercontent.com/DonRoboto/CursoMOO/main/ks_50_0.csv'\n",
        "download_50 = requests.get(url_50).content\n",
        "df_50 = pd.read_csv(io.StringIO(download_50.decode('utf-8')))\n",
        "\n",
        "\n",
        "url_10000 = 'https://raw.githubusercontent.com/DonRoboto/CursoMOO/main/ks_10000_0.csv'\n",
        "download_10000 = requests.get(url_10000).content\n",
        "df_10000 = pd.read_csv(io.StringIO(download_10000.decode('utf-8')))\n"
      ],
      "metadata": {
        "id": "r-MaIWBbLsLa"
      },
      "execution_count": 1,
      "outputs": []
    },
    {
      "cell_type": "code",
      "source": [
        "def solve_knapsack(weights, profits, capacity):\n",
        "  # create a two dimensional array for Memoization, each element is initialized to '-1'\n",
        "  dp = [[-1 for x in range(capacity+1)] for y in range(len(profits))]\n",
        "  return knapsack_recursive(dp, profits, weights, capacity, 0)\n",
        "\n",
        "\n",
        "def knapsack_recursive(dp, profits, weights, capacity, currentIndex):\n",
        "\n",
        "  # base checks\n",
        "  if capacity <= 0 or currentIndex >= len(profits):\n",
        "    return 0\n",
        "\n",
        "  # if we have already solved a similar problem, return the result from memory\n",
        "  if dp[currentIndex][capacity] != -1:\n",
        "    return dp[currentIndex][capacity]\n",
        "\n",
        "  # recursive call after choosing the element at the currentIndex\n",
        "  # if the weight of the element at currentIndex exceeds the capacity, we\n",
        "  # shouldn't process this\n",
        "  profit1 = 0\n",
        "  if weights[currentIndex] <= capacity:\n",
        "    profit1 = profits[currentIndex] + knapsack_recursive(\n",
        "      dp, profits, weights, capacity - weights[currentIndex], currentIndex + 1)\n",
        "\n",
        "  # recursive call after excluding the element at the currentIndex\n",
        "  profit2 = knapsack_recursive(\n",
        "    dp, profits, weights, capacity, currentIndex + 1)\n",
        "\n",
        "  dp[currentIndex][capacity] = max(profit1, profit2)\n",
        "  return dp[currentIndex][capacity]"
      ],
      "metadata": {
        "id": "xPQ-jTg8So99"
      },
      "execution_count": 2,
      "outputs": []
    },
    {
      "cell_type": "code",
      "source": [
        "#ejemplo dummy\n",
        "profit=[10, 10, 12, 18]\n",
        "weight=[2, 4, 6, 9]\n",
        "max_capacity=15\n",
        "n=4\n",
        "solution = solve_knapsack(weight, profit, max_capacity)\n",
        "print(solution)"
      ],
      "metadata": {
        "colab": {
          "base_uri": "https://localhost:8080/"
        },
        "id": "6sKiyba_NsGw",
        "outputId": "41668d30-dbcd-4175-ef67-f0ff907b6d7a"
      },
      "execution_count": 3,
      "outputs": [
        {
          "output_type": "stream",
          "name": "stdout",
          "text": [
            "38\n"
          ]
        }
      ]
    },
    {
      "cell_type": "code",
      "source": [
        "data_top = df_50.columns\n",
        "\n",
        "n = int(data_top[0])\n",
        "max_capacity = int(data_top[1])\n",
        "\n",
        "profit=df_50.iloc[:, 0]\n",
        "weight=df_50.iloc[:, 1]\n",
        "\n",
        "solution = solve_knapsack(weight, profit, max_capacity)\n",
        "print(max_capacity)\n",
        "print(solution)"
      ],
      "metadata": {
        "colab": {
          "base_uri": "https://localhost:8080/"
        },
        "id": "rImKa2X-NpLm",
        "outputId": "4a1a0301-d43a-4c22-c609-92f5c25f4be5"
      },
      "execution_count": 5,
      "outputs": [
        {
          "output_type": "stream",
          "name": "stdout",
          "text": [
            "341045\n",
            "142156\n"
          ]
        }
      ]
    },
    {
      "cell_type": "code",
      "source": [
        "data_top = df_10000.columns\n",
        "\n",
        "n = int(data_top[0])\n",
        "max_capacity = int(data_top[1])\n",
        "\n",
        "profit=df_10000.iloc[:, 0]\n",
        "weight=df_10000.iloc[:, 1]\n",
        "\n",
        "solution = solve_knapsack(weight, profit, max_capacity)\n",
        "print(solution)\n"
      ],
      "metadata": {
        "id": "iEFtaAmMLSBX"
      },
      "execution_count": null,
      "outputs": []
    }
  ]
}