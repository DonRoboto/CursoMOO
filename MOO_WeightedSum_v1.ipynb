{
  "nbformat": 4,
  "nbformat_minor": 0,
  "metadata": {
    "colab": {
      "provenance": [],
      "authorship_tag": "ABX9TyMT6a3XXgTcGoFjhJNB+YNU",
      "include_colab_link": true
    },
    "kernelspec": {
      "name": "python3",
      "display_name": "Python 3"
    },
    "language_info": {
      "name": "python"
    }
  },
  "cells": [
    {
      "cell_type": "markdown",
      "metadata": {
        "id": "view-in-github",
        "colab_type": "text"
      },
      "source": [
        "<a href=\"https://colab.research.google.com/github/DonRoboto/CursoMOO/blob/main/MOO_WeightedSum_v1.ipynb\" target=\"_parent\"><img src=\"https://colab.research.google.com/assets/colab-badge.svg\" alt=\"Open In Colab\"/></a>"
      ]
    },
    {
      "cell_type": "code",
      "execution_count": 1,
      "metadata": {
        "id": "78wPgIxulYiY"
      },
      "outputs": [],
      "source": [
        "\n",
        "import numpy as np\n",
        "import random\n",
        "from sympy import *\n",
        "import matplotlib.pyplot as plt\n",
        "\n",
        "\n",
        "#random.seed(1000)\n",
        "alpha = 0.01\n",
        "\n",
        "ro = 0.8\n",
        "c = 0.1\n",
        "\n",
        "pesos = [i/100 for i in range(0, 101)]\n"
      ]
    },
    {
      "cell_type": "code",
      "source": [
        "x0 = Symbol('x0')\n",
        "x1 = Symbol('x1')\n",
        "\n",
        "#Function Binh and Korn\n",
        "#f1 = 4*x0**2 + 4*x1**2\n",
        "#f2 = (x0-5)**2 + (x1-5)**2\n",
        "\n",
        "#g1 = (x0 - 5)**2 + x1**2\n",
        "#g2 = (x0 - 8)**2 + (x1 + 3)**2\n",
        "\n",
        "\n",
        "#Function Test\n",
        "#f1 = x0**2 - x1\n",
        "#f2 = -0.5*x0 - x1 - 1\n",
        "\n",
        "#g1 = 6.5 - x0/6 - x1\n",
        "#g2 = 7.5 - 0.5*x0 - x1\n",
        "#g3 = 30 - 0.5*x0 - x1\n",
        "\n",
        "\n",
        "#Tarea 1\n",
        "f1 = (x0-1)**2 + (x1-1)**4\n",
        "f2 = (x0+1)**2 + (x1+1)**2\n",
        "\n",
        "#g1 = (x0 - 5)**2 + x1**2\n",
        "#g2 = (x0 - 8)**2 + (x1 + 3)**2\n"
      ],
      "metadata": {
        "id": "iWR0j8ColtZV"
      },
      "execution_count": 2,
      "outputs": []
    },
    {
      "cell_type": "code",
      "source": [
        "def Gradient(fx, X):\n",
        "  return np.array( [ [fx.diff(x0).subs( [(x0, float(X[0])), (x1, float(X[1]))]  )], [fx.diff(x1).subs( [(x0, float(X[0])), (x1, float(X[1]))]  ) ] ] )  \n",
        "\n",
        "def Direction(fx, X):  \n",
        "  dy = -1 * Gradient(fx, X)\n",
        "  return dy\n",
        "\n",
        "def Step_Size(fx, X, alpha, ro, c):\n",
        "  counter = 0\n",
        "  origen_0 = fx.subs([(x0, float(X[0])), (x1, float(X[1]))]).doit()\n",
        "  f_k = origen_0\n",
        "  \n",
        "  pk = Direction(fx, X)\n",
        "  \n",
        "  g = Gradient(fx, X)\n",
        "\n",
        "  while True:\n",
        "    dato1 = X  + (alpha * pk)\n",
        "    destino = fx.subs([(x0, float(dato1[0])), (x1, float(dato1[1]))]).doit()\n",
        "\n",
        "    dato3 = (c * alpha) * np.dot(g.T, pk)\n",
        "    penal_0 = dato3[0,0]\n",
        "\n",
        "    f_n = round(float(destino), 6)\n",
        "    penalty = round(float(penal_0), 6)\n",
        "\n",
        "    if (f_n <= f_k + penalty) or (counter>100):\n",
        "      return alpha\n",
        "\n",
        "    alpha = round(ro * alpha, 6)\n",
        "    counter = counter + 1\n",
        "\n",
        "\n",
        "def Restriction(X):\n",
        "  r = False\n",
        "  r1 = g1.subs([ (x0, float(X[0])), (x1, float(X[1])) ] ).doit()\n",
        "  r2 = g2.subs([ (x0, float(X[0])), (x1, float(X[1])) ] ).doit()\n",
        "  \n",
        "  if (r1>25) or (r2<7.7):\n",
        "    r = True\n",
        "\n",
        "  return r\n"
      ],
      "metadata": {
        "id": "9mX8Yl-ZHgy6"
      },
      "execution_count": 3,
      "outputs": []
    },
    {
      "cell_type": "code",
      "source": [
        "prev_val = 1000000\n",
        "epsilon = 0.00001\n",
        "counter=0\n",
        "max_value=1000\n",
        "\n",
        "graph1=[]\n",
        "graph2=[]\n",
        "\n",
        "for p in pesos:\n",
        "\n",
        "  xv0 = random.randint(-3, 3)\n",
        "  xv1 = random.randint(-3, 3)\n",
        "\n",
        "  X = np.array([[xv0], [xv1]])\n",
        "\n",
        "  w1 = round(p, 2)\n",
        "  w2 = round(1-p, 2)\n",
        "\n",
        "  func = w1 * f1 + w2 * f2\n",
        "  \n",
        "  while True:\n",
        "    pk = Direction(func, X)\n",
        "\n",
        "    alpha = Step_Size(func, X, alpha, ro, c)\n",
        "\n",
        "    Xn = X + (alpha * pk) \n",
        "    actual_val = func.subs([ (x0, float(Xn[0])), (x1, float(Xn[1])) ] )\n",
        "\n",
        "    if (round(abs(actual_val - prev_val), 6)<epsilon) or (counter>=max_value):\n",
        "      break\n",
        "\n",
        "    X = Xn\n",
        "    prev_val = actual_val\n",
        "    counter = counter + 1\n",
        "\n",
        "  #re1, re2 = Restriction(X)\n",
        "  #if (re1>25 or re2<7.7):\n",
        "  #  counter = counter - 1\n",
        "  #  break\n",
        "  \n",
        "#  if Restriction(X):\n",
        "#    counter = counter - 1\n",
        "#    break\n",
        "\n",
        "  f_1 = f1.subs([(x0, float(X[0])), (x1, float(X[1]))]).doit()\n",
        "  f_2 = f2.subs([(x0, float(X[0])), (x1, float(X[1]))]).doit()\n",
        "\n",
        "  graph1.append(f_1)\n",
        "  graph2.append(f_2)\n"
      ],
      "metadata": {
        "id": "uHlxzFE1JMaN"
      },
      "execution_count": 4,
      "outputs": []
    },
    {
      "cell_type": "code",
      "source": [
        "plt.scatter(graph1, graph2)\n",
        "plt.show()"
      ],
      "metadata": {
        "colab": {
          "base_uri": "https://localhost:8080/",
          "height": 265
        },
        "id": "2b_K5oYmbtMy",
        "outputId": "06f753b3-de9e-4dc8-a279-511b760e82bf"
      },
      "execution_count": 5,
      "outputs": [
        {
          "output_type": "display_data",
          "data": {
            "text/plain": [
              "<Figure size 432x288 with 1 Axes>"
            ],
            "image/png": "[encoded data removed]"
          },
          "metadata": {
            "needs_background": "light"
          }
        }
      ]
    }
  ]
}