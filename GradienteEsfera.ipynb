{
  "nbformat": 4,
  "nbformat_minor": 0,
  "metadata": {
    "colab": {
      "name": "GradienteEsfera.ipynb",
      "provenance": [],
      "authorship_tag": "ABX9TyP4KbNYaawCs0qscjI/ixf8",
      "include_colab_link": true
    },
    "kernelspec": {
      "name": "python3",
      "display_name": "Python 3"
    },
    "language_info": {
      "name": "python"
    }
  },
  "cells": [
    {
      "cell_type": "markdown",
      "metadata": {
        "id": "view-in-github",
        "colab_type": "text"
      },
      "source": [
        "<a href=\"https://colab.research.google.com/github/DonRoboto/CursoMOO/blob/main/GradienteEsfera.ipynb\" target=\"_parent\"><img src=\"https://colab.research.google.com/assets/colab-badge.svg\" alt=\"Open In Colab\"/></a>"
      ]
    },
    {
      "cell_type": "code",
      "execution_count": 1,
      "metadata": {
        "colab": {
          "base_uri": "https://localhost:8080/"
        },
        "id": "sfY92oGe6LQ_",
        "outputId": "94149cee-ff0e-48bd-e3a4-1211d3521892"
      },
      "outputs": [
        {
          "output_type": "stream",
          "name": "stdout",
          "text": [
            "0.01\n",
            "[[ 326]\n",
            " [-210]]\n"
          ]
        }
      ],
      "source": [
        "import numpy as np\n",
        "import random\n",
        "from sympy import *\n",
        "\n",
        "#random.seed(1000)\n",
        "alpha = 0.01\n",
        "ro = 0.8\n",
        "c = 0.1\n",
        "\n",
        "x0 = random.randint(-500, 500)\n",
        "x1 = random.randint(-500, 500)\n",
        "\n",
        "X = np.array([[x0], [x1]])\n",
        "\n",
        "print(alpha)\n",
        "print(X)"
      ]
    },
    {
      "cell_type": "code",
      "source": [
        "x0 = Symbol('x0')\n",
        "x1 = Symbol('x1')\n",
        "\n",
        "#Sphere function\n",
        "fx = x0**2 + x1**2"
      ],
      "metadata": {
        "id": "LrBGxgMW6wq2"
      },
      "execution_count": 2,
      "outputs": []
    },
    {
      "cell_type": "code",
      "source": [
        "def Gradient(X):\n",
        "  return np.array( [ [fx.diff(x0).subs( [(x0, float(X[0])), (x1, float(X[1]))]  )], [fx.diff(x1).subs( [(x0, float(X[0])), (x1, float(X[1]))]  ) ] ] )  \n",
        "\n",
        "def Direction(X):  \n",
        "  dy = -1 * Gradient(X)\n",
        "  return dy\n",
        "\n",
        "def Step_Size(X, alpha, ro, c):\n",
        "  counter = 0\n",
        "  origen_0 = fx.subs([(x0, float(X[0])), (x1, float(X[1]))]).doit()\n",
        "  f_k = origen_0\n",
        "  \n",
        "  pk = Direction(X)\n",
        "  \n",
        "  g = Gradient(X)\n",
        "\n",
        "  while True:\n",
        "    dato1 = X  + (alpha * pk)\n",
        "    destino = fx.subs([(x0, float(dato1[0])), (x1, float(dato1[1]))]).doit()\n",
        "\n",
        "    dato3 = (c * alpha) * np.dot(g.T, pk)\n",
        "    penal_0 = dato3[0,0]\n",
        "\n",
        "    f_n = round(float(destino), 6)\n",
        "    penalty = round(float(penal_0), 6)\n",
        "\n",
        "    if (f_n <= f_k + penalty) or (counter>100):\n",
        "      return alpha\n",
        "\n",
        "    alpha = round(ro * alpha, 6)\n",
        "    counter = counter + 1\n"
      ],
      "metadata": {
        "id": "5dcT5V4X7aEE"
      },
      "execution_count": 3,
      "outputs": []
    },
    {
      "cell_type": "code",
      "source": [
        "prev_val = 1000000\n",
        "epsilon = 0.00001\n",
        "counter=0\n",
        "max_value=1000\n",
        "\n",
        "while True:\n",
        "  pk = Direction(X)\n",
        "\n",
        "  alpha = Step_Size(X, alpha, ro, c)\n",
        "\n",
        "  Xn = X + (alpha * pk) \n",
        "  actual_val = fx.subs([ (x0, float(Xn[0])), (x1, float(Xn[1])) ] )\n",
        "\n",
        "  if (round(abs(actual_val - prev_val), 6)<epsilon) or (counter>=max_value):\n",
        "    break\n",
        "\n",
        "  X = Xn\n",
        "  prev_val=actual_val\n",
        "  counter = counter + 1\n",
        "\n",
        "print('Xn={}'.format(Xn))\n",
        "print('f(Xn)={}'.format(actual_val))\n",
        "print('i={}'.format(counter))"
      ],
      "metadata": {
        "colab": {
          "base_uri": "https://localhost:8080/"
        },
        "id": "goEi8qB075DZ",
        "outputId": "ae8ac954-5b31-4c11-fa9c-f331e9e581b8"
      },
      "execution_count": 4,
      "outputs": [
        {
          "output_type": "stream",
          "name": "stdout",
          "text": [
            "Xn=[[0.0133738191574241]\n",
            " [-0.00861503688054924]]\n",
            "f(Xn)=0.000253077899308706\n",
            "i=499\n"
          ]
        }
      ]
    }
  ]
}