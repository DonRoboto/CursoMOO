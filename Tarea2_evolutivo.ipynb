{
  "nbformat": 4,
  "nbformat_minor": 0,
  "metadata": {
    "colab": {
      "provenance": [],
      "authorship_tag": "ABX9TyOtBfxEALrSUeut7SaGYbL0",
      "include_colab_link": true
    },
    "kernelspec": {
      "name": "python3",
      "display_name": "Python 3"
    },
    "language_info": {
      "name": "python"
    }
  },
  "cells": [
    {
      "cell_type": "markdown",
      "metadata": {
        "id": "view-in-github",
        "colab_type": "text"
      },
      "source": [
        "<a href=\"https://colab.research.google.com/github/DonRoboto/CursoMOO/blob/main/Tarea2_evolutivo.ipynb\" target=\"_parent\"><img src=\"https://colab.research.google.com/assets/colab-badge.svg\" alt=\"Open In Colab\"/></a>"
      ]
    },
    {
      "cell_type": "code",
      "execution_count": 59,
      "metadata": {
        "colab": {
          "base_uri": "https://localhost:8080/"
        },
        "id": "84Wa8E5tcC1Z",
        "outputId": "9268bae5-4968-4f9f-debf-6eeb024b2630"
      },
      "outputs": [
        {
          "output_type": "stream",
          "name": "stdout",
          "text": [
            "Looking in indexes: https://pypi.org/simple, https://us-python.pkg.dev/colab-wheels/public/simple/\n",
            "Requirement already satisfied: bitstring in /usr/local/lib/python3.7/dist-packages (3.1.9)\n"
          ]
        }
      ],
      "source": [
        "!pip install bitstring"
      ]
    },
    {
      "cell_type": "code",
      "source": [
        "import numpy as np\n",
        "import random\n",
        "import bitstring as bits\n"
      ],
      "metadata": {
        "id": "xhL5du2PdrZA"
      },
      "execution_count": 78,
      "outputs": []
    },
    {
      "cell_type": "code",
      "source": [
        "class Individuo():\n",
        "    def __init__(self, x, y):\n",
        "        self.f_x = float(x)\n",
        "        self.f_y = float(y)\n",
        "        self.cromosomas()\n",
        "\n",
        "    def cromosomas(self):\n",
        "        aux_f_x = bits.BitArray(float=self.f_x, length=32)\n",
        "        aux_f_y = bits.BitArray(float=self.f_y, length=32)\n",
        "\n",
        "        aux_s_x = aux_f_x.bin\n",
        "        aux_s_y = aux_f_y.bin\n",
        "\n",
        "        self.b_x = list(aux_s_x)\n",
        "        self.b_y = list(aux_s_y)\n",
        " \n",
        "\n",
        "    def fittnes(self, c_x, c_y):\n",
        "      r1_1 = ''.join(c_x)\n",
        "      r1_2 = ''.join(c_y)\n",
        "\n",
        "      r2_1 = bits.BitArray(bin=r1_1)\n",
        "      r2_2 = bits.BitArray(bin=r1_2)\n",
        "      \n",
        "      r3_1 = r2_1.float\n",
        "      r3_2 = r2_2.float\n",
        "\n",
        "      resultado = r3_1 + r3_2\n",
        "      return resultado\n",
        "        "
      ],
      "metadata": {
        "id": "OtsHJR7Ud9-X"
      },
      "execution_count": 107,
      "outputs": []
    },
    {
      "cell_type": "code",
      "source": [
        "x0 = float(random.randint(-3, 3))\n",
        "x1 = float(random.randint(-3, 3))\n",
        "\n",
        "print(x0)\n",
        "print(x1)\n",
        "print(\"****\")\n",
        "\n",
        "miV1=Individuo(x=x0, y=x1)\n",
        "\n",
        "cro1_1 = miV1.b_x\n",
        "cro1_2 = miV1.b_y\n",
        "\n",
        "print(cro1_1)\n",
        "print(cro1_2)\n",
        "print(\"****\")\n",
        "\n",
        "res = miV1.fittnes(cro1_1, cro1_2)\n",
        "print(res)\n"
      ],
      "metadata": {
        "colab": {
          "base_uri": "https://localhost:8080/"
        },
        "id": "ovHogoR-cNvu",
        "outputId": "529b4066-af06-4c44-e7ee-d8923cd0bb88"
      },
      "execution_count": 117,
      "outputs": [
        {
          "output_type": "stream",
          "name": "stdout",
          "text": [
            "2.0\n",
            "-2.0\n",
            "****\n",
            "['0', '1', '0', '0', '0', '0', '0', '0', '0', '0', '0', '0', '0', '0', '0', '0', '0', '0', '0', '0', '0', '0', '0', '0', '0', '0', '0', '0', '0', '0', '0', '0']\n",
            "['1', '1', '0', '0', '0', '0', '0', '0', '0', '0', '0', '0', '0', '0', '0', '0', '0', '0', '0', '0', '0', '0', '0', '0', '0', '0', '0', '0', '0', '0', '0', '0']\n",
            "****\n",
            "0.0\n"
          ]
        }
      ]
    },
    {
      "cell_type": "code",
      "source": [
        "x0 = float(random.randint(-3, 3))\n",
        "x1 = float(random.randint(-3, 3))\n",
        "\n",
        "print(x0)\n",
        "print(x1)\n",
        "print(\"****\")\n",
        "\n",
        "miV2=Individuo(x=x0, y=x1)\n",
        "\n",
        "cro2_1 = miV2.b_x\n",
        "cro2_2 = miV2.b_y\n",
        "\n",
        "print(cro2_1)\n",
        "print(cro2_1)\n",
        "print(\"****\")\n",
        "\n",
        "res = miV2.fittnes(cro2_1, cro2_2)\n",
        "print(res)\n"
      ],
      "metadata": {
        "colab": {
          "base_uri": "https://localhost:8080/"
        },
        "id": "U3ScdEI5pG_a",
        "outputId": "dca5462d-1855-4e13-e280-902541a9cbc9"
      },
      "execution_count": 115,
      "outputs": [
        {
          "output_type": "stream",
          "name": "stdout",
          "text": [
            "-1.0\n",
            "1.0\n",
            "****\n",
            "['1', '0', '1', '1', '1', '1', '1', '1', '1', '0', '0', '0', '0', '0', '0', '0', '0', '0', '0', '0', '0', '0', '0', '0', '0', '0', '0', '0', '0', '0', '0', '0']\n",
            "['1', '0', '1', '1', '1', '1', '1', '1', '1', '0', '0', '0', '0', '0', '0', '0', '0', '0', '0', '0', '0', '0', '0', '0', '0', '0', '0', '0', '0', '0', '0', '0']\n",
            "****\n",
            "0.0\n"
          ]
        }
      ]
    },
    {
      "cell_type": "code",
      "source": [
        "#cruza\n",
        "cruza1_1 = cro1_1[:16]\n",
        "cruza1_2 = cro1_1[16:]\n",
        "\n",
        "cruza2_1 = cro2_1[:16]\n",
        "cruza2_2 = cro2_1[16:]\n",
        "\n",
        "\n",
        "print(cruza1_1)\n",
        "print(cruza1_2)"
      ],
      "metadata": {
        "colab": {
          "base_uri": "https://localhost:8080/"
        },
        "id": "K16Bqyh-pOC5",
        "outputId": "b986776c-cf69-486d-c9aa-1f0211b9db3c"
      },
      "execution_count": 119,
      "outputs": [
        {
          "output_type": "stream",
          "name": "stdout",
          "text": [
            "['0', '1', '0', '0', '0', '0', '0', '0', '0', '0', '0', '0', '0', '0', '0', '0']\n",
            "['0', '0', '0', '0', '0', '0', '0', '0', '0', '0', '0', '0', '0', '0', '0', '0']\n"
          ]
        }
      ]
    }
  ]
}