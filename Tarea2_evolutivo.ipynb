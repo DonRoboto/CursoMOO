{
  "nbformat": 4,
  "nbformat_minor": 0,
  "metadata": {
    "colab": {
      "provenance": [],
      "authorship_tag": "ABX9TyP5qJ4MkSBmhvPn2Skmj5W/",
      "include_colab_link": true
    },
    "kernelspec": {
      "name": "python3",
      "display_name": "Python 3"
    },
    "language_info": {
      "name": "python"
    }
  },
  "cells": [
    {
      "cell_type": "markdown",
      "metadata": {
        "id": "view-in-github",
        "colab_type": "text"
      },
      "source": [
        "<a href=\"https://colab.research.google.com/github/DonRoboto/CursoMOO/blob/main/Tarea2_evolutivo.ipynb\" target=\"_parent\"><img src=\"https://colab.research.google.com/assets/colab-badge.svg\" alt=\"Open In Colab\"/></a>"
      ]
    },
    {
      "cell_type": "code",
      "execution_count": 1,
      "metadata": {
        "colab": {
          "base_uri": "https://localhost:8080/"
        },
        "id": "84Wa8E5tcC1Z",
        "outputId": "961e8f27-5711-4b0b-f772-549cba3c5cbc"
      },
      "outputs": [
        {
          "output_type": "stream",
          "name": "stdout",
          "text": [
            "Looking in indexes: https://pypi.org/simple, https://us-python.pkg.dev/colab-wheels/public/simple/\n",
            "Collecting bitstring\n",
            "  Downloading bitstring-3.1.9-py3-none-any.whl (38 kB)\n",
            "Installing collected packages: bitstring\n",
            "Successfully installed bitstring-3.1.9\n"
          ]
        }
      ],
      "source": [
        "!pip install bitstring"
      ]
    },
    {
      "cell_type": "code",
      "source": [
        "import numpy as np\n",
        "import random\n",
        "import bitstring as bits\n"
      ],
      "metadata": {
        "id": "xhL5du2PdrZA"
      },
      "execution_count": 2,
      "outputs": []
    },
    {
      "cell_type": "code",
      "source": [
        "class Individuo():\n",
        "    def __init__(self, x='', y=''):\n",
        "      if x!='':\n",
        "        self.f_x = float(x)\n",
        "        self.f_y = float(y)\n",
        "      else:\n",
        "        self.f_x = round(random.uniform(-3, 3),2)\n",
        "        self.f_y = round(random.uniform(-3, 3),2)\n",
        "      self.cromosomas()\n",
        "\n",
        "    def cromosomas(self):\n",
        "        aux_f_x = bits.BitArray(float=self.f_x, length=32)\n",
        "        aux_f_y = bits.BitArray(float=self.f_y, length=32)\n",
        "\n",
        "        self.b_x = list(aux_f_x.bin)\n",
        "        self.b_y = list(aux_f_y.bin)\n",
        " \n",
        "\n",
        "    def fittnes(self):\n",
        "      r1_1 = ''.join(self.b_x)\n",
        "      r1_2 = ''.join(self.b_y)\n",
        "\n",
        "      r2_1 = bits.BitArray(bin=r1_1).float\n",
        "      r2_2 = bits.BitArray(bin=r1_2).float\n",
        "\n",
        "      #funcion de test\n",
        "      resultado = r2_1**2 + r2_2**2\n",
        "      return resultado\n",
        "        "
      ],
      "metadata": {
        "id": "OtsHJR7Ud9-X"
      },
      "execution_count": 81,
      "outputs": []
    },
    {
      "cell_type": "code",
      "source": [
        "class Poblacion():\n",
        "  p = []\n",
        "\n",
        "  def __init__(self, n=''):\n",
        "    self.p = []\n",
        "    if n!='':\n",
        "      for k in range(n):\n",
        "        i=Individuo()\n",
        "        self.p.append(i)\n"
      ],
      "metadata": {
        "id": "MjCqZOBBmnq5"
      },
      "execution_count": 109,
      "outputs": []
    },
    {
      "cell_type": "code",
      "source": [
        "pob_i = Poblacion(n=6)\n",
        "\n",
        "for i in pob_i.p:\n",
        "  print(i.fittnes())\n",
        "\n"
      ],
      "metadata": {
        "id": "9Z6zoOn5nAEO",
        "outputId": "aa53ec15-826a-48eb-e33f-78a4d33615bd",
        "colab": {
          "base_uri": "https://localhost:8080/"
        }
      },
      "execution_count": 113,
      "outputs": [
        {
          "output_type": "stream",
          "name": "stdout",
          "text": [
            "8.91199954319001\n",
            "8.14579957170487\n",
            "3.3784999361038217\n",
            "6.707599875831605\n",
            "3.230800017547608\n",
            "7.892200311708454\n"
          ]
        }
      ]
    },
    {
      "cell_type": "code",
      "source": [
        "pob_n = Poblacion()\n",
        "\n",
        "for i in pob_n.p:\n",
        "  print(i.fittnes())"
      ],
      "metadata": {
        "id": "wDRIdI-VpO09"
      },
      "execution_count": 112,
      "outputs": []
    },
    {
      "cell_type": "code",
      "source": [
        "miV1=Individuo()\n",
        "\n",
        "cro1_1 = miV1.b_x\n",
        "cro1_2 = miV1.b_y\n",
        "\n",
        "print(cro1_1)\n",
        "print(cro1_2)\n",
        "print(\"****\")\n",
        "\n",
        "res = miV1.fittnes()\n",
        "print(res)\n"
      ],
      "metadata": {
        "colab": {
          "base_uri": "https://localhost:8080/"
        },
        "id": "ovHogoR-cNvu",
        "outputId": "27cf9bf8-2b35-4451-b3a0-c522ff88908d"
      },
      "execution_count": 69,
      "outputs": [
        {
          "output_type": "stream",
          "name": "stdout",
          "text": [
            "['1', '0', '1', '1', '1', '1', '1', '1', '1', '1', '1', '0', '1', '0', '1', '0', '0', '0', '1', '1', '1', '1', '0', '1', '0', '1', '1', '1', '0', '0', '0', '1']\n",
            "['1', '0', '1', '1', '1', '1', '1', '0', '1', '1', '1', '0', '0', '0', '0', '1', '0', '1', '0', '0', '0', '1', '1', '1', '1', '0', '1', '0', '1', '1', '1', '0']\n",
            "****\n",
            "3.5425001549720783\n"
          ]
        }
      ]
    },
    {
      "cell_type": "code",
      "source": [
        "x0 = round(random.uniform(-3, 3),2)\n",
        "x1 = round(random.uniform(-3, 3),2)\n",
        "\n",
        "print(x0)\n",
        "print(x1)\n",
        "print(\"****\")\n",
        "\n",
        "miV2=Individuo(x=x0, y=x1)\n",
        "\n",
        "cro2_1 = miV2.b_x\n",
        "cro2_2 = miV2.b_y\n",
        "\n",
        "print(cro2_1)\n",
        "print(cro2_1)\n",
        "print(\"****\")\n",
        "\n",
        "res = miV2.fittnes()\n",
        "print(res)\n"
      ],
      "metadata": {
        "colab": {
          "base_uri": "https://localhost:8080/"
        },
        "id": "U3ScdEI5pG_a",
        "outputId": "6815f315-e8eb-4e85-ebe2-820e84396bec"
      },
      "execution_count": 70,
      "outputs": [
        {
          "output_type": "stream",
          "name": "stdout",
          "text": [
            "2.88\n",
            "2.22\n",
            "****\n",
            "['0', '1', '0', '0', '0', '0', '0', '0', '0', '0', '1', '1', '1', '0', '0', '0', '0', '1', '0', '1', '0', '0', '0', '1', '1', '1', '1', '0', '1', '1', '0', '0']\n",
            "['0', '1', '0', '0', '0', '0', '0', '0', '0', '0', '1', '1', '1', '0', '0', '0', '0', '1', '0', '1', '0', '0', '0', '1', '1', '1', '1', '0', '1', '1', '0', '0']\n",
            "****\n",
            "13.22280078620912\n"
          ]
        }
      ]
    },
    {
      "cell_type": "code",
      "source": [
        "#cruza\n",
        "cruza1_x_top = cro1_1[:16]\n",
        "cruza1_x_bot = cro1_1[16:]\n",
        "\n",
        "cruza1_y_top = cro1_2[:16]\n",
        "cruza1_y_bot = cro1_2[16:]\n",
        "\n",
        "cruza2_x_top = cro2_1[:16]\n",
        "cruza2_x_bot = cro2_1[16:]\n",
        "\n",
        "cruza2_y_top = cro2_2[:16]\n",
        "cruza2_y_bot = cro2_2[16:]\n",
        "\n",
        "hijo_x = cruza1_x_top + cruza2_x_bot\n",
        "hijo_y = cruza1_y_top + cruza2_y_bot\n",
        "\n",
        "ch_x = hijo_x\n",
        "ch_y = hijo_y\n",
        "\n",
        "chs_x = ''.join(ch_x)\n",
        "chs_y = ''.join(ch_y)\n",
        "\n",
        "r2_1 = bits.BitArray(bin=chs_x)\n",
        "r2_2 = bits.BitArray(bin=chs_y)\n",
        "      \n",
        "r3_1 = r2_1.float\n",
        "r3_2 = r2_2.float\n",
        "\n",
        "print(r3_1)\n",
        "print(r3_2)\n",
        "\n",
        "hijo = Individuo(r3_1, r3_2)\n",
        "fit = hijo.fittnes()\n",
        "\n",
        "print(fit)"
      ],
      "metadata": {
        "colab": {
          "base_uri": "https://localhost:8080/"
        },
        "id": "K16Bqyh-pOC5",
        "outputId": "edda4813-1c44-4671-9a40-5070723f45c1"
      },
      "execution_count": 45,
      "outputs": [
        {
          "output_type": "stream",
          "name": "stdout",
          "text": [
            "-1.449062466621399\n",
            "-0.17078125476837158\n",
            "-1.6198437213897705\n"
          ]
        }
      ]
    }
  ]
}