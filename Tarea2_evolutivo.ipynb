{
  "nbformat": 4,
  "nbformat_minor": 0,
  "metadata": {
    "colab": {
      "provenance": [],
      "authorship_tag": "ABX9TyN4Fe27F7iqkWkINsflzHWb",
      "include_colab_link": true
    },
    "kernelspec": {
      "name": "python3",
      "display_name": "Python 3"
    },
    "language_info": {
      "name": "python"
    }
  },
  "cells": [
    {
      "cell_type": "markdown",
      "metadata": {
        "id": "view-in-github",
        "colab_type": "text"
      },
      "source": [
        "<a href=\"https://colab.research.google.com/github/DonRoboto/CursoMOO/blob/main/Tarea2_evolutivo.ipynb\" target=\"_parent\"><img src=\"https://colab.research.google.com/assets/colab-badge.svg\" alt=\"Open In Colab\"/></a>"
      ]
    },
    {
      "cell_type": "code",
      "execution_count": 13,
      "metadata": {
        "colab": {
          "base_uri": "https://localhost:8080/"
        },
        "id": "84Wa8E5tcC1Z",
        "outputId": "02189ec7-f926-4df2-cf5d-eb34dbe30f39"
      },
      "outputs": [
        {
          "output_type": "stream",
          "name": "stdout",
          "text": [
            "Looking in indexes: https://pypi.org/simple, https://us-python.pkg.dev/colab-wheels/public/simple/\n",
            "Requirement already satisfied: bitstring in /usr/local/lib/python3.7/dist-packages (3.1.9)\n"
          ]
        }
      ],
      "source": [
        "!pip install bitstring"
      ]
    },
    {
      "cell_type": "code",
      "source": [
        "import numpy as np\n",
        "import random\n",
        "import bitstring as bits\n",
        "from sympy import *\n"
      ],
      "metadata": {
        "id": "xhL5du2PdrZA"
      },
      "execution_count": 67,
      "outputs": []
    },
    {
      "cell_type": "code",
      "source": [
        "class Individuo():\n",
        "    def __init__(self, x='', y=''):\n",
        "      if x!='':\n",
        "        self.f_x = float(x)\n",
        "        self.f_y = float(y)\n",
        "      else:\n",
        "        self.f_x = round(random.uniform(-3, 3),2)\n",
        "        self.f_y = round(random.uniform(-3, 3),2)\n",
        "      self.cromosomas()\n",
        "\n",
        "    def cromosomas(self):\n",
        "        aux_f_x = bits.BitArray(float=self.f_x, length=32)\n",
        "        aux_f_y = bits.BitArray(float=self.f_y, length=32)\n",
        "\n",
        "        self.b_x = list(aux_f_x.bin)\n",
        "        self.b_y = list(aux_f_y.bin)\n",
        " \n",
        "\n",
        "    def fittnes(self, w1, w2):\n",
        "      x = Symbol('x')\n",
        "      y = Symbol('y')\n",
        "\n",
        "      f1 = (x-1)**2 + (y-1)**4\n",
        "      f2 = (x+1)**2 + (y+1)**2\n",
        "\n",
        "      func = (w1 * f1) + (w2 * f2)\n",
        "\n",
        "      r1_1 = ''.join(self.b_x)\n",
        "      r1_2 = ''.join(self.b_y)\n",
        "\n",
        "      r2_1 = bits.BitArray(bin=r1_1).float\n",
        "      r2_2 = bits.BitArray(bin=r1_2).float\n",
        "\n",
        "      result = func.subs([(x, r2_1), (y, r2_2)]).doit()\n",
        "      return result\n",
        "        "
      ],
      "metadata": {
        "id": "OtsHJR7Ud9-X"
      },
      "execution_count": 89,
      "outputs": []
    },
    {
      "cell_type": "code",
      "source": [
        "class Poblacion():\n",
        "  p = []\n",
        "\n",
        "  def __init__(self, n=''):\n",
        "    self.p = []\n",
        "    if n!='':\n",
        "      for k in range(n):\n",
        "        i=Individuo()\n",
        "        self.p.append(i)\n",
        "\n",
        "\n",
        "  def cruza(self, ind_1, ind_2):\n",
        "    cro1_1 = ind_1.b_x\n",
        "    cro1_2 = ind_1.b_y\n",
        "\n",
        "    cro2_1 = ind_2.b_x\n",
        "    cro2_2 = ind_2.b_y\n",
        "\n",
        "    cruza1_x_top = cro1_1[:16]\n",
        "    cruza1_x_bot = cro1_1[16:]\n",
        "\n",
        "    cruza1_y_top = cro1_2[:16]\n",
        "    cruza1_y_bot = cro1_2[16:]\n",
        "\n",
        "    cruza2_x_top = cro2_1[:16]\n",
        "    cruza2_x_bot = cro2_1[16:]\n",
        "\n",
        "    cruza2_y_top = cro2_2[:16]\n",
        "    cruza2_y_bot = cro2_2[16:]\n",
        "\n",
        "    hijo_x = cruza1_x_top + cruza2_x_bot\n",
        "    hijo_y = cruza1_y_top + cruza2_y_bot\n",
        "\n",
        "    ch_x = hijo_x\n",
        "    ch_y = hijo_y\n",
        "\n",
        "    chs_x = ''.join(ch_x)\n",
        "    chs_y = ''.join(ch_y)\n",
        "\n",
        "    r2_1 = bits.BitArray(bin=chs_x)\n",
        "    r2_2 = bits.BitArray(bin=chs_y)\n",
        "      \n",
        "    r3_1 = r2_1.float\n",
        "    r3_2 = r2_2.float\n",
        "\n",
        "    hijo = Individuo(r3_1, r3_2)\n",
        "\n",
        "    return hijo\n",
        "\n",
        "\n",
        "  def mutacion(self, ind_1):\n",
        "    index = random.randint(0, 31)\n",
        "    print(index)\n",
        "    print(ind_1.b_x)\n",
        "    print(ind_1.b_y)\n",
        "\n",
        "    c_aux_1 = ind_1.b_x[index]\n",
        "    c_aux_2 = ind_1.b_y[index]\n",
        "\n",
        "    print(c_aux_1)\n",
        "    print(c_aux_2)\n",
        "\n",
        "    if c_aux_1=='0':\n",
        "      ind_1.b_x[index]='1'\n",
        "    else:\n",
        "      ind_1.b_x[index]='0'\n",
        "\n",
        "    if c_aux_2=='0':\n",
        "      ind_1.b_y[index]='1'\n",
        "    else:\n",
        "      ind_1.b_y[index]='0'\n",
        "\n",
        "    print(ind_1.b_x)\n",
        "    print(ind_1.b_y)"
      ],
      "metadata": {
        "id": "MjCqZOBBmnq5"
      },
      "execution_count": 50,
      "outputs": []
    },
    {
      "cell_type": "code",
      "source": [
        "pob_i = Poblacion(n=10)\n",
        "\n",
        "for i in range(int(len(pob_i.p)/2)):\n",
        "  print(pob_i.p[i].fittnes(0.5, 0.5))\n"
      ],
      "metadata": {
        "id": "Qdg0V-13KeG6",
        "outputId": "7be20af2-2e33-4354-e1c3-5518567b933c",
        "colab": {
          "base_uri": "https://localhost:8080/"
        }
      },
      "execution_count": 99,
      "outputs": [
        {
          "output_type": "stream",
          "name": "stdout",
          "text": [
            "4.85368232315928\n",
            "6.61674032100534\n",
            "4.64476080187450\n",
            "83.7589632591464\n",
            "10.5777261487329\n"
          ]
        }
      ]
    },
    {
      "cell_type": "code",
      "source": [
        "#crear poblacion inicial\n",
        "#pob_i = Poblacion(n=6)\n",
        "\n",
        "\n",
        "#padre_1 = pob_i.p[0]\n",
        "#padre_2 = pob_i.p[1]\n",
        "\n",
        "#hijo = pob_i.cruza(padre_1, padre_2)\n",
        "\n",
        "#valor = hijo.fittnes()\n",
        "#print(valor)\n",
        "#pob_i.mutacion(hijo)"
      ],
      "metadata": {
        "colab": {
          "base_uri": "https://localhost:8080/"
        },
        "id": "9Z6zoOn5nAEO",
        "outputId": "f107a7d8-6e7d-43da-8261-75f6935a25ee"
      },
      "execution_count": 62,
      "outputs": [
        {
          "output_type": "stream",
          "name": "stdout",
          "text": [
            "5.6463729221433425\n"
          ]
        }
      ]
    },
    {
      "cell_type": "code",
      "source": [],
      "metadata": {
        "id": "wDRIdI-VpO09"
      },
      "execution_count": 112,
      "outputs": []
    }
  ]
}