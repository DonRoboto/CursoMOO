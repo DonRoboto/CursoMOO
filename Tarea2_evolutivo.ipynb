{
  "nbformat": 4,
  "nbformat_minor": 0,
  "metadata": {
    "colab": {
      "provenance": [],
      "authorship_tag": "ABX9TyN5cLkT7iZ1XsYjJzC5iJIP",
      "include_colab_link": true
    },
    "kernelspec": {
      "name": "python3",
      "display_name": "Python 3"
    },
    "language_info": {
      "name": "python"
    }
  },
  "cells": [
    {
      "cell_type": "markdown",
      "metadata": {
        "id": "view-in-github",
        "colab_type": "text"
      },
      "source": [
        "<a href=\"https://colab.research.google.com/github/DonRoboto/CursoMOO/blob/main/Tarea2_evolutivo.ipynb\" target=\"_parent\"><img src=\"https://colab.research.google.com/assets/colab-badge.svg\" alt=\"Open In Colab\"/></a>"
      ]
    },
    {
      "cell_type": "code",
      "execution_count": 1,
      "metadata": {
        "colab": {
          "base_uri": "https://localhost:8080/"
        },
        "id": "84Wa8E5tcC1Z",
        "outputId": "f9bb91d1-fcaa-4f67-84ef-2d588ab2817a"
      },
      "outputs": [
        {
          "output_type": "stream",
          "name": "stdout",
          "text": [
            "Looking in indexes: https://pypi.org/simple, https://us-python.pkg.dev/colab-wheels/public/simple/\n",
            "Requirement already satisfied: bitstring in /usr/local/lib/python3.7/dist-packages (3.1.9)\n"
          ]
        }
      ],
      "source": [
        "!pip install bitstring"
      ]
    },
    {
      "cell_type": "code",
      "source": [
        "import numpy as np\n",
        "import random\n",
        "import bitstring as bits\n",
        "from sympy import *\n",
        "import scipy, pylab"
      ],
      "metadata": {
        "id": "xhL5du2PdrZA"
      },
      "execution_count": 2,
      "outputs": []
    },
    {
      "cell_type": "code",
      "source": [
        "x = Symbol('x')\n",
        "y = Symbol('y')\n",
        "\n",
        "f1 = (x-1)**2 + (y-1)**4\n",
        "f2 = (x+1)**2 + (y+1)**2"
      ],
      "metadata": {
        "id": "kQQevG_fBwpN"
      },
      "execution_count": 3,
      "outputs": []
    },
    {
      "cell_type": "code",
      "source": [
        "class Individuo():\n",
        "    def __init__(self, x='', y=''):\n",
        "      if x!='':\n",
        "        self.f_x = float(x)\n",
        "        self.f_y = float(y)\n",
        "      else:\n",
        "        self.f_x = round(random.uniform(-3, 3),2)\n",
        "        self.f_y = round(random.uniform(-3, 3),2)\n",
        "      self.cromosomas()\n",
        "\n",
        "    def cromosomas(self):\n",
        "        aux_f_x = bits.BitArray(float=self.f_x, length=32)\n",
        "        aux_f_y = bits.BitArray(float=self.f_y, length=32)\n",
        "\n",
        "        self.b_x = list(aux_f_x.bin)\n",
        "        self.b_y = list(aux_f_y.bin)\n",
        " \n",
        "\n",
        "    def fittnes(self, w1, w2):\n",
        "\n",
        "      func = (w1 * f1) + (w2 * f2)\n",
        "\n",
        "      r1_1 = ''.join(self.b_x)\n",
        "      r1_2 = ''.join(self.b_y)\n",
        "\n",
        "      r2_1 = bits.BitArray(bin=r1_1).float\n",
        "      r2_2 = bits.BitArray(bin=r1_2).float\n",
        "\n",
        "      result = func.subs([(x, r2_1), (y, r2_2)]).doit()\n",
        "      return result\n",
        "        "
      ],
      "metadata": {
        "id": "OtsHJR7Ud9-X"
      },
      "execution_count": 4,
      "outputs": []
    },
    {
      "cell_type": "code",
      "source": [
        "class Poblacion():\n",
        "  p = []\n",
        "\n",
        "  def __init__(self, n=''):\n",
        "    self.p = []\n",
        "    if n!='':\n",
        "      for k in range(n):\n",
        "        i=Individuo()\n",
        "        self.p.append(i)\n",
        "\n",
        "\n",
        "  def cruza(self, ind_1, ind_2):\n",
        "    cro1_1 = ind_1.b_x\n",
        "    cro1_2 = ind_1.b_y\n",
        "\n",
        "    cro2_1 = ind_2.b_x\n",
        "    cro2_2 = ind_2.b_y\n",
        "\n",
        "    cruza1_x_top = cro1_1[:16]\n",
        "    cruza1_x_bot = cro1_1[16:]\n",
        "\n",
        "    cruza1_y_top = cro1_2[:16]\n",
        "    cruza1_y_bot = cro1_2[16:]\n",
        "\n",
        "    cruza2_x_top = cro2_1[:16]\n",
        "    cruza2_x_bot = cro2_1[16:]\n",
        "\n",
        "    cruza2_y_top = cro2_2[:16]\n",
        "    cruza2_y_bot = cro2_2[16:]\n",
        "\n",
        "    hijo_1_x = cruza1_x_top + cruza2_x_bot\n",
        "    hijo_1_y = cruza1_y_top + cruza2_y_bot\n",
        "\n",
        "    hijo_2_x = cruza2_x_top + cruza1_x_bot\n",
        "    hijo_2_y = cruza2_y_top + cruza1_y_bot\n",
        "\n",
        "    ch_1_x = hijo_1_x\n",
        "    ch_1_y = hijo_1_y\n",
        "\n",
        "    chs_1_x = ''.join(ch_1_x)\n",
        "    chs_1_y = ''.join(ch_1_y)\n",
        "\n",
        "    h1_2_1 = bits.BitArray(bin=chs_1_x)\n",
        "    h1_2_2 = bits.BitArray(bin=chs_1_y)\n",
        "      \n",
        "    h1_3_1 = h1_2_1.float\n",
        "    h1_3_2 = h1_2_2.float\n",
        "\n",
        "    ch_2_x = hijo_2_x\n",
        "    ch_2_y = hijo_2_y\n",
        "\n",
        "    chs_2_x = ''.join(ch_2_x)\n",
        "    chs_2_y = ''.join(ch_2_y)\n",
        "\n",
        "    h2_2_1 = bits.BitArray(bin=chs_2_x)\n",
        "    h2_2_2 = bits.BitArray(bin=chs_2_y)\n",
        "      \n",
        "    h2_3_1 = h2_2_1.float\n",
        "    h2_3_2 = h2_2_2.float\n",
        "\n",
        "    hijo_1 = Individuo(h1_3_1, h1_3_2)\n",
        "    hijo_2 = Individuo(h2_3_1, h2_3_2)\n",
        "\n",
        "    return hijo_1, hijo_2 \n",
        "\n",
        "\n",
        "  def mutacion(self, ind_1):\n",
        "    index = random.randint(0, 31)\n",
        "\n",
        "    c_aux_1 = ind_1.b_x[index]\n",
        "    c_aux_2 = ind_1.b_y[index]\n",
        "\n",
        "    if c_aux_1=='0':\n",
        "      ind_1.b_x[index]='1'\n",
        "    else:\n",
        "      ind_1.b_x[index]='0'\n",
        "\n",
        "    if c_aux_2=='0':\n",
        "      ind_1.b_y[index]='1'\n",
        "    else:\n",
        "      ind_1.b_y[index]='0'\n"
      ],
      "metadata": {
        "id": "MjCqZOBBmnq5"
      },
      "execution_count": 5,
      "outputs": []
    },
    {
      "cell_type": "code",
      "source": [
        "p_1 = [i/100 for i in range(0, 101)]\n",
        "p_2=[]\n",
        "\n",
        "for i in range(len(p_1)):\n",
        "  p_2.append(round(1-p_1[i],2))\n",
        "\n",
        "print(p_1)\n",
        "print(p_2)"
      ],
      "metadata": {
        "id": "QG8lu1AnD86w",
        "outputId": "a9373b67-3930-4c22-a943-6f9a67f30d2f",
        "colab": {
          "base_uri": "https://localhost:8080/"
        }
      },
      "execution_count": 6,
      "outputs": [
        {
          "output_type": "stream",
          "name": "stdout",
          "text": [
            "[0.0, 0.01, 0.02, 0.03, 0.04, 0.05, 0.06, 0.07, 0.08, 0.09, 0.1, 0.11, 0.12, 0.13, 0.14, 0.15, 0.16, 0.17, 0.18, 0.19, 0.2, 0.21, 0.22, 0.23, 0.24, 0.25, 0.26, 0.27, 0.28, 0.29, 0.3, 0.31, 0.32, 0.33, 0.34, 0.35, 0.36, 0.37, 0.38, 0.39, 0.4, 0.41, 0.42, 0.43, 0.44, 0.45, 0.46, 0.47, 0.48, 0.49, 0.5, 0.51, 0.52, 0.53, 0.54, 0.55, 0.56, 0.57, 0.58, 0.59, 0.6, 0.61, 0.62, 0.63, 0.64, 0.65, 0.66, 0.67, 0.68, 0.69, 0.7, 0.71, 0.72, 0.73, 0.74, 0.75, 0.76, 0.77, 0.78, 0.79, 0.8, 0.81, 0.82, 0.83, 0.84, 0.85, 0.86, 0.87, 0.88, 0.89, 0.9, 0.91, 0.92, 0.93, 0.94, 0.95, 0.96, 0.97, 0.98, 0.99, 1.0]\n",
            "[1.0, 0.99, 0.98, 0.97, 0.96, 0.95, 0.94, 0.93, 0.92, 0.91, 0.9, 0.89, 0.88, 0.87, 0.86, 0.85, 0.84, 0.83, 0.82, 0.81, 0.8, 0.79, 0.78, 0.77, 0.76, 0.75, 0.74, 0.73, 0.72, 0.71, 0.7, 0.69, 0.68, 0.67, 0.66, 0.65, 0.64, 0.63, 0.62, 0.61, 0.6, 0.59, 0.58, 0.57, 0.56, 0.55, 0.54, 0.53, 0.52, 0.51, 0.5, 0.49, 0.48, 0.47, 0.46, 0.45, 0.44, 0.43, 0.42, 0.41, 0.4, 0.39, 0.38, 0.37, 0.36, 0.35, 0.34, 0.33, 0.32, 0.31, 0.3, 0.29, 0.28, 0.27, 0.26, 0.25, 0.24, 0.23, 0.22, 0.21, 0.2, 0.19, 0.18, 0.17, 0.16, 0.15, 0.14, 0.13, 0.12, 0.11, 0.1, 0.09, 0.08, 0.07, 0.06, 0.05, 0.04, 0.03, 0.02, 0.01, 0.0]\n"
          ]
        }
      ]
    },
    {
      "cell_type": "code",
      "source": [
        "for k in range(len(p_1)):\n",
        "  w1 = p_1[k]\n",
        "  w2 = p_2[k]\n",
        "\n",
        "  pob_i = Poblacion(n=24)\n",
        "\n",
        "  for m in range(30):\n",
        "    pob_n = Poblacion()\n",
        "    pob_aux = Poblacion()\n",
        "\n",
        "\n",
        "    #seleccionar los que se van a reproducir\n",
        "    for i in range(0, len(pob_i.p), 2):\n",
        "      if pob_i.p[i].fittnes(w1, w2)<= pob_i.p[i+1].fittnes(w1, w2):\n",
        "        pob_aux.p.append(pob_i.p[i])\n",
        "      else:\n",
        "        pob_aux.p.append(pob_i.p[i+1])   \n",
        "\n",
        "    #quenes serán padres\n",
        "    pad_1 = Individuo()\n",
        "    pad_2 = Individuo()\n",
        "\n",
        "    for j in range(0, len(pob_aux.p), 2):\n",
        "      pad_1 = pob_aux.p[j]\n",
        "      pad_2 = pob_aux.p[j+1]\n",
        "\n",
        "      pob_n.p.append(pad_1)\n",
        "      pob_n.p.append(pad_2)\n",
        "\n",
        "      #cruza\n",
        "      h_1, h_2 = pob_n.cruza(pad_1, pad_2)\n",
        "\n",
        "      #mutacion\n",
        "      if random.uniform(0, 1)<0.1:\n",
        "        pob_n.mutacion(h_1)\n",
        "\n",
        "      if random.uniform(0, 1)<0.1:\n",
        "        pob_n.mutacion(h_2)\n",
        "\n",
        "      pob_n.p.append(h_1)\n",
        "      pob_n.p.append(h_2)\n",
        "  \n",
        "  g1 = []\n",
        "  g2 = []\n",
        "\n",
        "  for i in pob_n.p:\n",
        "    f1s = f1.subs([ (x, i.f_x), (y, i.f_y) ] ).doit()\n",
        "    f2s = f2.subs([ (x, i.f_x), (y, i.f_y) ] ).doit()\n",
        "\n",
        "    g1.append(f1s)    \n",
        "    g2.append(f2s)  \n",
        "\n",
        "\n",
        "  ax = pylab.subplot(111)\n",
        "  ax.scatter(g1, g2)\n",
        "\n",
        "ax.figure.show()\n",
        "\n",
        "ax.set_xlabel('f1')\n",
        "ax.set_ylabel('f2')"
      ],
      "metadata": {
        "id": "qAyTzvquEXAp",
        "outputId": "c4933d8f-4f01-4442-de8f-ce7b88dc8eeb",
        "colab": {
          "base_uri": "https://localhost:8080/",
          "height": 335
        }
      },
      "execution_count": 7,
      "outputs": [
        {
          "output_type": "stream",
          "name": "stderr",
          "text": [
            "/usr/local/lib/python3.7/dist-packages/ipykernel_launcher.py:54: MatplotlibDeprecationWarning: Adding an axes using the same arguments as a previous axes currently reuses the earlier instance.  In a future version, a new instance will always be created and returned.  Meanwhile, this warning can be suppressed, and the future behavior ensured, by passing a unique label to each axes instance.\n"
          ]
        },
        {
          "output_type": "execute_result",
          "data": {
            "text/plain": [
              "Text(0, 0.5, 'f2')"
            ]
          },
          "metadata": {},
          "execution_count": 7
        },
        {
          "output_type": "display_data",
          "data": {
            "text/plain": [
              "<Figure size 432x288 with 1 Axes>"
            ],
            "image/png": "[encoded data removed]"
          },
          "metadata": {
            "needs_background": "light"
          }
        }
      ]
    }
  ]
}