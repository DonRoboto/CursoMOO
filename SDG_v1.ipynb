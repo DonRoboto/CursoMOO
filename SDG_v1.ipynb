{
  "cells": [
    {
      "cell_type": "markdown",
      "metadata": {
        "id": "view-in-github",
        "colab_type": "text"
      },
      "source": [
        "<a href=\"https://colab.research.google.com/github/DonRoboto/CursoMOO/blob/main/SDG_v1.ipynb\" target=\"_parent\"><img src=\"https://colab.research.google.com/assets/colab-badge.svg\" alt=\"Open In Colab\"/></a>"
      ]
    },
    {
      "cell_type": "code",
      "execution_count": null,
      "metadata": {
        "colab": {
          "base_uri": "https://localhost:8080/"
        },
        "id": "kB9tLrcOASUl",
        "outputId": "c11ec294-f48f-4d12-e87b-5f4fe5d11c9c"
      },
      "outputs": [
        {
          "output_type": "stream",
          "name": "stdout",
          "text": [
            "5\n",
            "[[  9]\n",
            " [291]\n",
            " [333]]\n"
          ]
        }
      ],
      "source": [
        "\n",
        "import numpy as np\n",
        "import random\n",
        "#from sympy import Symbol\n",
        "from sympy import *\n",
        "#import sympy as symbol\n",
        "\n",
        "#random.seed(1000)\n",
        "\n",
        "#alpha = random.random()\n",
        "alpha = 5\n",
        "ro = 0.8\n",
        "c = 0.1\n",
        "x0 = random.randint(-500, 500)\n",
        "x1 = random.randint(-500, 500)\n",
        "x2 = random.randint(-500, 500)\n",
        "X = np.array([[x0], [x1], [x2]])\n",
        "\n",
        "print(alpha)\n",
        "print(X)"
      ]
    },
    {
      "cell_type": "markdown",
      "source": [
        "![imagen.png](data:image/png;base64,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)"
      ],
      "metadata": {
        "id": "gWaRJGWII7g9"
      }
    },
    {
      "cell_type": "code",
      "execution_count": null,
      "metadata": {
        "id": "Kvx_0l8Wccha"
      },
      "outputs": [],
      "source": [
        "x0 = Symbol('x0')\n",
        "x1 = Symbol('x1')\n",
        "x2 = Symbol('x2')\n",
        "\n",
        "#Sphere function\n",
        "#fx = x0**2 + x1**2 + x2**2\n",
        "\n",
        "#Rosenbrock function\n",
        "#fx = (100*(x1-x0**2)**2) + (1-x0)**2 + (100*(x2-x1**2)**2) + (1-x1)**2\n",
        "\n",
        "#Schwefel Function\n",
        "d=3\n",
        "#fx = (418.8929 * d)  -  ( (x0 * sin( sqrt(abs(x0)) ) )  + (x1 * sin( sqrt(abs(x1)) ))  + (x2 * sin( sqrt(abs(x2)) ))   )\n",
        "fx = (418.8929 * d)  -  ( (x0 * sin( sqrt(  sqrt(x0**2)  ) ) )  + (x1 * sin( sqrt(  sqrt(x1**2)   ) ))  + (x2 * sin( sqrt(  sqrt(x2**2)   ) ) )   )"
      ]
    },
    {
      "cell_type": "code",
      "source": [
        "origen_0 = fx.subs([(x0, float(X[0])), (x1, float(X[1])), (x2, float(X[2]))]).doit()\n",
        "print(X)\n",
        "print(origen_0)\n",
        "\n",
        "\n",
        "f0=fx.diff(x0)\n",
        "f1=fx.diff(x1)\n",
        "f2=fx.diff(x2)\n",
        "\n",
        "print(f0)\n",
        "print(f1)\n",
        "print(f2)\n",
        "\n",
        "print(f0.subs(x0, 4.2).doit())\n",
        "print(f1.subs(x1, 4.3).doit())\n",
        "print(f2.subs(x2, 4.4).doit())"
      ],
      "metadata": {
        "colab": {
          "base_uri": "https://localhost:8080/"
        },
        "id": "2micAmhi2LHY",
        "outputId": "a296fab6-eeeb-4bad-9272-2638849f1e38"
      },
      "execution_count": null,
      "outputs": [
        {
          "output_type": "stream",
          "name": "stdout",
          "text": [
            "[[  9]\n",
            " [291]\n",
            " [333]]\n",
            "1727.76677316894\n",
            "-(x0**2)**(1/4)*cos((x0**2)**(1/4))/2 - sin((x0**2)**(1/4))\n",
            "-(x1**2)**(1/4)*cos((x1**2)**(1/4))/2 - sin((x1**2)**(1/4))\n",
            "-(x2**2)**(1/4)*cos((x2**2)**(1/4))/2 - sin((x2**2)**(1/4))\n",
            "-0.415739077305085\n",
            "-0.376545521575530\n",
            "-0.337080850385028\n"
          ]
        }
      ]
    },
    {
      "cell_type": "code",
      "execution_count": null,
      "metadata": {
        "id": "OwllH9h7OazB"
      },
      "outputs": [],
      "source": [
        "\n",
        "def gradiente(X):\n",
        "  return np.array([[fx.diff(x0).subs([(x0, float(X[0])), (x1, float(X[1])), (x2, float(X[2])) ] )], [fx.diff(x1).subs([(x0, float(X[0])), (x1, float(X[1])), (x2, float(X[2])) ] )], [fx.diff(x2).subs([(x0, float(X[0])), (x1, float(X[1])), (x2, float(X[2])) ] )]])\n",
        "  #return np.array([fx.diff(x0), fx.diff(x1), fx.diff(x2)])\n",
        "\n",
        "def direction(X):\n",
        "  dy = -1 * gradiente(X)\n",
        "  return dy\n",
        "\n",
        "def step_size(X, alpha, ro, c):\n",
        "  counter = 0\n",
        "  origen_0 = fx.subs([(x0, float(X[0])), (x1, float(X[1])), (x2, float(X[2]))])\n",
        "  f_k = round(float(origen_0), 4)\n",
        "  #f_k = origen_0\n",
        "\n",
        "  pk = direction(X)\n",
        "  #g = np.array([fx.diff(x).subs(x, float(X[0])), fx.diff(y).subs(y, float(X[1])), fx.diff(z).subs(z, float(X[2]))] )\n",
        "  g = gradiente(X)\n",
        "\n",
        "\n",
        "  #print(X)\n",
        "  #print(float(X[0]))\n",
        "  #print(float(X[1]))\n",
        "  #print(float(X[2]))\n",
        "  #print(origen_0)\n",
        "  #print(pk)\n",
        "  #print(g)\n",
        "\n",
        "\n",
        "  while True:\n",
        "    dato1 = X  + (alpha * pk)\n",
        "    destino_0 = fx.subs( [ (x0, float(dato1[0])), (x1, float(dato1[1])), (x2, float(dato1[2])) ] )\n",
        "\n",
        "    dato3 = (c * alpha) * np.dot(g.T, pk)\n",
        "    penal_0 = dato3[0,0]\n",
        "\n",
        "    f_n = round(float(destino_0), 6)\n",
        "    penalty = round(float(penal_0), 6)\n",
        "\n",
        "    if (f_n <= f_k + penalty) or (counter>100):\n",
        "      return alpha\n",
        "\n",
        "    #print(alpha)\n",
        "    alpha = round(ro * alpha, 6)\n",
        "    counter = counter + 1\n"
      ]
    },
    {
      "cell_type": "code",
      "source": [
        "#a = gradiente(X)\n",
        "#bb = a[1].subs(x0, float(X[0]))\n",
        "#.subs([(x0, float(X[0])), (x1, float(X[1])), (x2, float(X[2]))])\n",
        "\n",
        "#print(bb)"
      ],
      "metadata": {
        "id": "PPbtQMpA50wB"
      },
      "execution_count": null,
      "outputs": []
    },
    {
      "cell_type": "code",
      "execution_count": null,
      "metadata": {
        "colab": {
          "base_uri": "https://localhost:8080/"
        },
        "id": "l08fs0dzHnwj",
        "outputId": "0ab52acb-2d79-4648-8320-dbba664deb68"
      },
      "outputs": [
        {
          "output_type": "stream",
          "name": "stderr",
          "text": [
            "  0% (5 of 100000) |                     | Elapsed Time: 0:00:00 ETA:   0:41:10"
          ]
        },
        {
          "output_type": "stream",
          "name": "stdout",
          "text": [
            "\n",
            "\n",
            "Xn=[[4.85602963402428]\n",
            " [203.814261129912]\n",
            " [420.968746698604]]\n",
            "f(Xn)=631.936940901859\n",
            "6\n"
          ]
        }
      ],
      "source": [
        "\n",
        "import progressbar\n",
        "\n",
        "prev_val = 1000000\n",
        "epsilon = 0.1\n",
        "counter=0\n",
        "max_value=100000\n",
        "\n",
        "bar = progressbar.ProgressBar(max_value=max_value)\n",
        "\n",
        "while True:\n",
        "  pk = direction(X)\n",
        "  #print('direccion={}'.format(pk.T))\n",
        "  \n",
        "  #print('ro: {}'.format(ro))  \n",
        "  alpha = step_size(X, alpha, ro, c)\n",
        "  #print('alpha: {}'.format(alpha) )\n",
        "\n",
        "  Xn = X + (alpha * pk) \n",
        "  actual_val = fx.subs([ (x0, float(Xn[0])), (x1, float(Xn[1])), (x2, float(Xn[2])) ] )\n",
        "\n",
        "  #print('f(X)={}'.format(prev_val))\n",
        "  #print('f(Xn)={}'.format(actual_val))\n",
        "  #print('alfa={}'.format(alpha))\n",
        "  #print('*********')\n",
        "\n",
        "  if (round(abs(actual_val - prev_val),6)<epsilon) or (counter>=max_value):\n",
        "    break\n",
        "  #if (counter>10):\n",
        "  #  break\n",
        "\n",
        "  X = Xn\n",
        "  prev_val=actual_val\n",
        "  counter = counter + 1\n",
        "\n",
        "  #time.sleep(0.1)\n",
        "  bar.update(counter)\n",
        "\n",
        "print('\\n')\n",
        "print('Xn={}'.format(Xn))\n",
        "print('f(Xn)={}'.format(actual_val))\n",
        "print(counter)"
      ]
    }
  ],
  "metadata": {
    "colab": {
      "name": "SDG_v1.ipynb",
      "provenance": [],
      "collapsed_sections": [],
      "authorship_tag": "ABX9TyNlep3EoZEa685hDfMxICe4",
      "include_colab_link": true
    },
    "kernelspec": {
      "display_name": "Python 3",
      "name": "python3"
    },
    "language_info": {
      "name": "python"
    }
  },
  "nbformat": 4,
  "nbformat_minor": 0
}