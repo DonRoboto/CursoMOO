{
  "nbformat": 4,
  "nbformat_minor": 0,
  "metadata": {
    "colab": {
      "name": "knapsack_v1.ipynb",
      "provenance": [],
      "authorship_tag": "ABX9TyOYObW5MygFPyj4s+Z8zpVi",
      "include_colab_link": true
    },
    "kernelspec": {
      "name": "python3",
      "display_name": "Python 3"
    },
    "language_info": {
      "name": "python"
    }
  },
  "cells": [
    {
      "cell_type": "markdown",
      "metadata": {
        "id": "view-in-github",
        "colab_type": "text"
      },
      "source": [
        "<a href=\"https://colab.research.google.com/github/DonRoboto/CursoMOO/blob/main/knapsack_v1.ipynb\" target=\"_parent\"><img src=\"https://colab.research.google.com/assets/colab-badge.svg\" alt=\"Open In Colab\"/></a>"
      ]
    },
    {
      "cell_type": "code",
      "source": [
        "import pandas as pd\n",
        "import requests\n",
        "import io\n",
        "\n",
        "url_50 = 'https://raw.githubusercontent.com/DonRoboto/CursoMOO/main/ks_50_0.csv'\n",
        "download_50 = requests.get(url_50).content\n",
        "\n",
        "df_50 = pd.read_csv(io.StringIO(download_50.decode('utf-8')))\n",
        "\n",
        "\n",
        "url_10000 = 'https://raw.githubusercontent.com/DonRoboto/CursoMOO/main/ks_10000_0.csv'\n",
        "download_10000 = requests.get(url_10000).content\n",
        "\n",
        "df_10000 = pd.read_csv(io.StringIO(download_10000.decode('utf-8')))\n"
      ],
      "metadata": {
        "id": "r-MaIWBbLsLa"
      },
      "execution_count": 1,
      "outputs": []
    },
    {
      "cell_type": "code",
      "source": [
        "\n",
        "def solve_knapsack(w, v, W):\n",
        "    ordered = []\n",
        "    for vi, wi in zip(v, w):\n",
        "        ordered.append((vi/wi, vi, wi))\n",
        "    ordered.sort(reverse=True)\n",
        "    S1 = []\n",
        "    weight = 0\n",
        "    val = 0\n",
        "    for _, vi, wi in ordered:\n",
        "        if weight + wi <= W:\n",
        "            S1.append((vi, wi))\n",
        "            weight += wi\n",
        "            val += vi\n",
        "        else:\n",
        "            S2 = [(vi, wi)]\n",
        "            val2 = vi\n",
        "            if val > val2:\n",
        "                return S1, val\n",
        "            else:\n",
        "                return S2, val2\n",
        "\n"
      ],
      "metadata": {
        "id": "vFmWJ26_PH4j"
      },
      "execution_count": 2,
      "outputs": []
    },
    {
      "cell_type": "code",
      "source": [
        "#ejemplo dummy\n",
        "profit=[10, 10, 12, 18]\n",
        "weight=[2, 4, 6, 9]\n",
        "max_capacity=15\n",
        "n=4\n",
        "solution = solve_knapsack(weight, profit, max_capacity)\n",
        "print(solution)"
      ],
      "metadata": {
        "colab": {
          "base_uri": "https://localhost:8080/"
        },
        "id": "6gagaAGtRgCz",
        "outputId": "b55a6f5a-8a0a-4c1a-afb9-e84233c718ff"
      },
      "execution_count": 3,
      "outputs": [
        {
          "output_type": "stream",
          "name": "stdout",
          "text": [
            "([(10, 2), (10, 4), (18, 9)], 38)\n"
          ]
        }
      ]
    },
    {
      "cell_type": "code",
      "source": [
        "data_top = df_50.columns\n",
        "\n",
        "n = int(data_top[0])\n",
        "max_capacity = int(data_top[1])\n",
        "\n",
        "profit=df_50.iloc[:, 0]\n",
        "weight=df_50.iloc[:, 1]\n",
        "\n",
        "solution = solve_knapsack(weight, profit, max_capacity)\n",
        "print(solution)\n"
      ],
      "metadata": {
        "colab": {
          "base_uri": "https://localhost:8080/"
        },
        "id": "Ha3h95G6POuA",
        "outputId": "73a1d77a-9af3-4f8e-a299-19d13f60656e"
      },
      "execution_count": 4,
      "outputs": [
        {
          "output_type": "stream",
          "name": "stdout",
          "text": [
            "([(96601, 231302)], 96601)\n"
          ]
        }
      ]
    },
    {
      "cell_type": "code",
      "source": [
        "data_top = df_10000.columns\n",
        "\n",
        "n = int(data_top[0])\n",
        "max_capacity = int(data_top[1])\n",
        "\n",
        "profit=df_10000.iloc[:, 0]\n",
        "weight=df_10000.iloc[:, 1]\n",
        "\n",
        "solution = solve_knapsack(weight, profit, max_capacity)\n",
        "print(solution)\n"
      ],
      "metadata": {
        "colab": {
          "base_uri": "https://localhost:8080/"
        },
        "id": "NnrV10_-QiLM",
        "outputId": "72f3f5d3-fcc5-4bc8-f53c-ced8e9278f74"
      },
      "execution_count": 5,
      "outputs": [
        {
          "output_type": "stream",
          "name": "stdout",
          "text": [
            "([(92264, 83877), (76140, 69221), (109027, 99123), (177323, 161215), (69271, 62979), (179749, 163423), (61650, 56051), (108657, 98789), (181206, 164754), (41755, 37964)], 1097042)\n"
          ]
        }
      ]
    }
  ]
}