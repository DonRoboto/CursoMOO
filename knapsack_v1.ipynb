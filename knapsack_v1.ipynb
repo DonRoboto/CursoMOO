{
  "nbformat": 4,
  "nbformat_minor": 0,
  "metadata": {
    "colab": {
      "name": "knapsack_v1.ipynb",
      "provenance": [],
      "authorship_tag": "ABX9TyP7a+rLgPV3WkCFNuwab9Un",
      "include_colab_link": true
    },
    "kernelspec": {
      "name": "python3",
      "display_name": "Python 3"
    },
    "language_info": {
      "name": "python"
    }
  },
  "cells": [
    {
      "cell_type": "markdown",
      "metadata": {
        "id": "view-in-github",
        "colab_type": "text"
      },
      "source": [
        "<a href=\"https://colab.research.google.com/github/DonRoboto/CursoMOO/blob/main/knapsack_v1.ipynb\" target=\"_parent\"><img src=\"https://colab.research.google.com/assets/colab-badge.svg\" alt=\"Open In Colab\"/></a>"
      ]
    },
    {
      "cell_type": "code",
      "source": [
        "import pandas as pd\n",
        "import requests\n",
        "import io\n",
        "\n",
        "url = 'https://raw.githubusercontent.com/DonRoboto/CursoMOO/main/ks_50_0.csv'\n",
        "download = requests.get(url).content\n",
        "\n",
        "df = pd.read_csv(io.StringIO(download.decode('utf-8')))\n"
      ],
      "metadata": {
        "id": "r-MaIWBbLsLa"
      },
      "execution_count": 1,
      "outputs": []
    },
    {
      "cell_type": "code",
      "source": [
        "\n",
        "def solve_knapsack(w, v, W):\n",
        "    ordered = []\n",
        "    for vi, wi in zip(v, w):\n",
        "        ordered.append((vi/wi, vi, wi))\n",
        "    ordered.sort(reverse=True)\n",
        "    S1 = []\n",
        "    weight = 0\n",
        "    val = 0\n",
        "    for _, vi, wi in ordered:\n",
        "        if weight + wi <= W:\n",
        "            S1.append((vi, wi))\n",
        "            weight += wi\n",
        "            val += vi\n",
        "        else:\n",
        "            S2 = [(vi, wi)]\n",
        "            val2 = vi\n",
        "            if val > val2:\n",
        "                return S1, val\n",
        "            else:\n",
        "                return S2, val2\n",
        "\n"
      ],
      "metadata": {
        "id": "vFmWJ26_PH4j"
      },
      "execution_count": 2,
      "outputs": []
    },
    {
      "cell_type": "code",
      "source": [
        "data_top = df.columns\n",
        "\n",
        "n = int(data_top[0])\n",
        "max_capacity = int(data_top[1])\n",
        "\n",
        "profit=df.iloc[:, 0]\n",
        "weight=df.iloc[:, 1]\n",
        "\n",
        "solution = solve_knapsack(weight, profit, max_capacity)\n",
        "print(solution)\n"
      ],
      "metadata": {
        "id": "Ha3h95G6POuA",
        "outputId": "da414ab5-f518-4af6-b51a-6d5d54516292",
        "colab": {
          "base_uri": "https://localhost:8080/"
        }
      },
      "execution_count": 3,
      "outputs": [
        {
          "output_type": "stream",
          "name": "stdout",
          "text": [
            "([(96601, 231302)], 96601)\n"
          ]
        }
      ]
    },
    {
      "cell_type": "code",
      "source": [
        "#ejemplo dummy\n",
        "profit=[10, 10, 12, 18]\n",
        "weight=[2, 4, 6, 9]\n",
        "max_capacity=15\n",
        "n=4\n",
        "solution = solve_knapsack(weight, profit, max_capacity)\n",
        "print(solution)"
      ],
      "metadata": {
        "colab": {
          "base_uri": "https://localhost:8080/"
        },
        "id": "6sKiyba_NsGw",
        "outputId": "377b92cc-39ad-43d8-91bb-8a09e5acda79"
      },
      "execution_count": 4,
      "outputs": [
        {
          "output_type": "stream",
          "name": "stdout",
          "text": [
            "([(10, 2), (10, 4), (18, 9)], 38)\n"
          ]
        }
      ]
    },
    {
      "cell_type": "code",
      "source": [],
      "metadata": {
        "id": "sgDnaEOhOHVu"
      },
      "execution_count": 4,
      "outputs": []
    }
  ]
}